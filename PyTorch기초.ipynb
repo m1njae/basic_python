{
  "nbformat": 4,
  "nbformat_minor": 0,
  "metadata": {
    "colab": {
      "name": "PyTorch기초.ipynb",
      "provenance": [],
      "collapsed_sections": [],
      "authorship_tag": "ABX9TyPIt96SinRF33ByUIacMxrm",
      "include_colab_link": true
    },
    "kernelspec": {
      "name": "python3",
      "display_name": "Python 3"
    },
    "language_info": {
      "name": "python"
    },
    "widgets": {
      "application/vnd.jupyter.widget-state+json": {
        "2ee55ef76c8f4122b3e8df72c7bf9efb": {
          "model_module": "@jupyter-widgets/controls",
          "model_name": "HBoxModel",
          "model_module_version": "1.5.0",
          "state": {
            "_view_name": "HBoxView",
            "_dom_classes": [],
            "_model_name": "HBoxModel",
            "_view_module": "@jupyter-widgets/controls",
            "_model_module_version": "1.5.0",
            "_view_count": null,
            "_view_module_version": "1.5.0",
            "box_style": "",
            "layout": "IPY_MODEL_f342fed2554744bdb6fff3db325e677d",
            "_model_module": "@jupyter-widgets/controls",
            "children": [
              "IPY_MODEL_56333e73d90c4e4b9a4ecee59723494d",
              "IPY_MODEL_94f0b266a74742b98c2ec7a5a653e8cb",
              "IPY_MODEL_ff81d80bc7e7403fa1e3212c04841b53"
            ]
          }
        },
        "f342fed2554744bdb6fff3db325e677d": {
          "model_module": "@jupyter-widgets/base",
          "model_name": "LayoutModel",
          "model_module_version": "1.2.0",
          "state": {
            "_view_name": "LayoutView",
            "grid_template_rows": null,
            "right": null,
            "justify_content": null,
            "_view_module": "@jupyter-widgets/base",
            "overflow": null,
            "_model_module_version": "1.2.0",
            "_view_count": null,
            "flex_flow": null,
            "width": null,
            "min_width": null,
            "border": null,
            "align_items": null,
            "bottom": null,
            "_model_module": "@jupyter-widgets/base",
            "top": null,
            "grid_column": null,
            "overflow_y": null,
            "overflow_x": null,
            "grid_auto_flow": null,
            "grid_area": null,
            "grid_template_columns": null,
            "flex": null,
            "_model_name": "LayoutModel",
            "justify_items": null,
            "grid_row": null,
            "max_height": null,
            "align_content": null,
            "visibility": null,
            "align_self": null,
            "height": null,
            "min_height": null,
            "padding": null,
            "grid_auto_rows": null,
            "grid_gap": null,
            "max_width": null,
            "order": null,
            "_view_module_version": "1.2.0",
            "grid_template_areas": null,
            "object_position": null,
            "object_fit": null,
            "grid_auto_columns": null,
            "margin": null,
            "display": null,
            "left": null
          }
        },
        "56333e73d90c4e4b9a4ecee59723494d": {
          "model_module": "@jupyter-widgets/controls",
          "model_name": "HTMLModel",
          "model_module_version": "1.5.0",
          "state": {
            "_view_name": "HTMLView",
            "style": "IPY_MODEL_7facd25b5faf4788aa593cb942565807",
            "_dom_classes": [],
            "description": "",
            "_model_name": "HTMLModel",
            "placeholder": "​",
            "_view_module": "@jupyter-widgets/controls",
            "_model_module_version": "1.5.0",
            "value": "",
            "_view_count": null,
            "_view_module_version": "1.5.0",
            "description_tooltip": null,
            "_model_module": "@jupyter-widgets/controls",
            "layout": "IPY_MODEL_379d5e2eb0404cafbbdd8721c3fa2da1"
          }
        },
        "94f0b266a74742b98c2ec7a5a653e8cb": {
          "model_module": "@jupyter-widgets/controls",
          "model_name": "FloatProgressModel",
          "model_module_version": "1.5.0",
          "state": {
            "_view_name": "ProgressView",
            "style": "IPY_MODEL_80f4c926be21486aacd68fbf6df64f3f",
            "_dom_classes": [],
            "description": "",
            "_model_name": "FloatProgressModel",
            "bar_style": "success",
            "max": 9912422,
            "_view_module": "@jupyter-widgets/controls",
            "_model_module_version": "1.5.0",
            "value": 9912422,
            "_view_count": null,
            "_view_module_version": "1.5.0",
            "orientation": "horizontal",
            "min": 0,
            "description_tooltip": null,
            "_model_module": "@jupyter-widgets/controls",
            "layout": "IPY_MODEL_38512a1644ff4914a34af66778c10492"
          }
        },
        "ff81d80bc7e7403fa1e3212c04841b53": {
          "model_module": "@jupyter-widgets/controls",
          "model_name": "HTMLModel",
          "model_module_version": "1.5.0",
          "state": {
            "_view_name": "HTMLView",
            "style": "IPY_MODEL_5c5b9f095a104b529e4c0aefc407ee3c",
            "_dom_classes": [],
            "description": "",
            "_model_name": "HTMLModel",
            "placeholder": "​",
            "_view_module": "@jupyter-widgets/controls",
            "_model_module_version": "1.5.0",
            "value": " 9913344/? [00:00&lt;00:00, 25063002.53it/s]",
            "_view_count": null,
            "_view_module_version": "1.5.0",
            "description_tooltip": null,
            "_model_module": "@jupyter-widgets/controls",
            "layout": "IPY_MODEL_86b54b63df7a4b51bc776ed4ee317e30"
          }
        },
        "7facd25b5faf4788aa593cb942565807": {
          "model_module": "@jupyter-widgets/controls",
          "model_name": "DescriptionStyleModel",
          "model_module_version": "1.5.0",
          "state": {
            "_view_name": "StyleView",
            "_model_name": "DescriptionStyleModel",
            "description_width": "",
            "_view_module": "@jupyter-widgets/base",
            "_model_module_version": "1.5.0",
            "_view_count": null,
            "_view_module_version": "1.2.0",
            "_model_module": "@jupyter-widgets/controls"
          }
        },
        "379d5e2eb0404cafbbdd8721c3fa2da1": {
          "model_module": "@jupyter-widgets/base",
          "model_name": "LayoutModel",
          "model_module_version": "1.2.0",
          "state": {
            "_view_name": "LayoutView",
            "grid_template_rows": null,
            "right": null,
            "justify_content": null,
            "_view_module": "@jupyter-widgets/base",
            "overflow": null,
            "_model_module_version": "1.2.0",
            "_view_count": null,
            "flex_flow": null,
            "width": null,
            "min_width": null,
            "border": null,
            "align_items": null,
            "bottom": null,
            "_model_module": "@jupyter-widgets/base",
            "top": null,
            "grid_column": null,
            "overflow_y": null,
            "overflow_x": null,
            "grid_auto_flow": null,
            "grid_area": null,
            "grid_template_columns": null,
            "flex": null,
            "_model_name": "LayoutModel",
            "justify_items": null,
            "grid_row": null,
            "max_height": null,
            "align_content": null,
            "visibility": null,
            "align_self": null,
            "height": null,
            "min_height": null,
            "padding": null,
            "grid_auto_rows": null,
            "grid_gap": null,
            "max_width": null,
            "order": null,
            "_view_module_version": "1.2.0",
            "grid_template_areas": null,
            "object_position": null,
            "object_fit": null,
            "grid_auto_columns": null,
            "margin": null,
            "display": null,
            "left": null
          }
        },
        "80f4c926be21486aacd68fbf6df64f3f": {
          "model_module": "@jupyter-widgets/controls",
          "model_name": "ProgressStyleModel",
          "model_module_version": "1.5.0",
          "state": {
            "_view_name": "StyleView",
            "_model_name": "ProgressStyleModel",
            "description_width": "",
            "_view_module": "@jupyter-widgets/base",
            "_model_module_version": "1.5.0",
            "_view_count": null,
            "_view_module_version": "1.2.0",
            "bar_color": null,
            "_model_module": "@jupyter-widgets/controls"
          }
        },
        "38512a1644ff4914a34af66778c10492": {
          "model_module": "@jupyter-widgets/base",
          "model_name": "LayoutModel",
          "model_module_version": "1.2.0",
          "state": {
            "_view_name": "LayoutView",
            "grid_template_rows": null,
            "right": null,
            "justify_content": null,
            "_view_module": "@jupyter-widgets/base",
            "overflow": null,
            "_model_module_version": "1.2.0",
            "_view_count": null,
            "flex_flow": null,
            "width": null,
            "min_width": null,
            "border": null,
            "align_items": null,
            "bottom": null,
            "_model_module": "@jupyter-widgets/base",
            "top": null,
            "grid_column": null,
            "overflow_y": null,
            "overflow_x": null,
            "grid_auto_flow": null,
            "grid_area": null,
            "grid_template_columns": null,
            "flex": null,
            "_model_name": "LayoutModel",
            "justify_items": null,
            "grid_row": null,
            "max_height": null,
            "align_content": null,
            "visibility": null,
            "align_self": null,
            "height": null,
            "min_height": null,
            "padding": null,
            "grid_auto_rows": null,
            "grid_gap": null,
            "max_width": null,
            "order": null,
            "_view_module_version": "1.2.0",
            "grid_template_areas": null,
            "object_position": null,
            "object_fit": null,
            "grid_auto_columns": null,
            "margin": null,
            "display": null,
            "left": null
          }
        },
        "5c5b9f095a104b529e4c0aefc407ee3c": {
          "model_module": "@jupyter-widgets/controls",
          "model_name": "DescriptionStyleModel",
          "model_module_version": "1.5.0",
          "state": {
            "_view_name": "StyleView",
            "_model_name": "DescriptionStyleModel",
            "description_width": "",
            "_view_module": "@jupyter-widgets/base",
            "_model_module_version": "1.5.0",
            "_view_count": null,
            "_view_module_version": "1.2.0",
            "_model_module": "@jupyter-widgets/controls"
          }
        },
        "86b54b63df7a4b51bc776ed4ee317e30": {
          "model_module": "@jupyter-widgets/base",
          "model_name": "LayoutModel",
          "model_module_version": "1.2.0",
          "state": {
            "_view_name": "LayoutView",
            "grid_template_rows": null,
            "right": null,
            "justify_content": null,
            "_view_module": "@jupyter-widgets/base",
            "overflow": null,
            "_model_module_version": "1.2.0",
            "_view_count": null,
            "flex_flow": null,
            "width": null,
            "min_width": null,
            "border": null,
            "align_items": null,
            "bottom": null,
            "_model_module": "@jupyter-widgets/base",
            "top": null,
            "grid_column": null,
            "overflow_y": null,
            "overflow_x": null,
            "grid_auto_flow": null,
            "grid_area": null,
            "grid_template_columns": null,
            "flex": null,
            "_model_name": "LayoutModel",
            "justify_items": null,
            "grid_row": null,
            "max_height": null,
            "align_content": null,
            "visibility": null,
            "align_self": null,
            "height": null,
            "min_height": null,
            "padding": null,
            "grid_auto_rows": null,
            "grid_gap": null,
            "max_width": null,
            "order": null,
            "_view_module_version": "1.2.0",
            "grid_template_areas": null,
            "object_position": null,
            "object_fit": null,
            "grid_auto_columns": null,
            "margin": null,
            "display": null,
            "left": null
          }
        }
      }
    }
  },
  "cells": [
    {
      "cell_type": "markdown",
      "metadata": {
        "id": "view-in-github",
        "colab_type": "text"
      },
      "source": [
        "<a href=\"https://colab.research.google.com/github/m1njae/basic_python/blob/master/PyTorch%EA%B8%B0%EC%B4%88.ipynb\" target=\"_parent\"><img src=\"https://colab.research.google.com/assets/colab-badge.svg\" alt=\"Open In Colab\"/></a>"
      ]
    },
    {
      "cell_type": "markdown",
      "metadata": {
        "id": "-_2nqtpO1vbB"
      },
      "source": [
        "파이토치의 구성요소\n",
        " * torch: 텐서를 생성하는 라이브러리\n",
        " * torch.autograd: 자동미분 기능을 제공하는 라이브러리\n",
        " * torch.nn: 신경망을 생성하는 라이브러리\n",
        " * torch.multiprocessing: 병렬처리 기능을 제공하는 라이브러리\n",
        " * torch.utils: 데이터 조작등 유틸리티 기능 제공\n",
        " * torch.legacy(./nn/.optim): Torch로부터 포팅해온 코드\n",
        " * torch.onnx: ONNX(Open Neural Network Exchange)\n",
        "    --> 서로 다른 프레임워크 간의 모델을 공유할 때 사용"
      ]
    },
    {
      "cell_type": "markdown",
      "metadata": {
        "id": "MTeOcYEJ4Da8"
      },
      "source": [
        "텐서(Tensors)\n",
        "* Numpy의 ndarray와 유사\n",
        "* GPU를 사용한 연산 가속도 가능"
      ]
    },
    {
      "cell_type": "code",
      "metadata": {
        "id": "Sq_Etoqe1cVy"
      },
      "source": [
        "import torch"
      ],
      "execution_count": 3,
      "outputs": []
    },
    {
      "cell_type": "code",
      "metadata": {
        "colab": {
          "base_uri": "https://localhost:8080/",
          "height": 35
        },
        "id": "uvmLijlI5sX1",
        "outputId": "2981c85c-110c-4541-890e-87da78bd060f"
      },
      "source": [
        "torch.__version__"
      ],
      "execution_count": null,
      "outputs": [
        {
          "output_type": "execute_result",
          "data": {
            "application/vnd.google.colaboratory.intrinsic+json": {
              "type": "string"
            },
            "text/plain": [
              "'1.9.0+cu102'"
            ]
          },
          "metadata": {},
          "execution_count": 2
        }
      ]
    },
    {
      "cell_type": "markdown",
      "metadata": {
        "id": "oWYTsq1a56sp"
      },
      "source": [
        "초기화 되지 않은 행렬"
      ]
    },
    {
      "cell_type": "code",
      "metadata": {
        "colab": {
          "base_uri": "https://localhost:8080/"
        },
        "id": "H1PhEubA5-tn",
        "outputId": "b20cb9d2-cc7b-4179-aea1-67ad7c67941a"
      },
      "source": [
        "x = torch.empty(4, 2)\n",
        "print(x)"
      ],
      "execution_count": null,
      "outputs": [
        {
          "output_type": "stream",
          "name": "stdout",
          "text": [
            "tensor([[-7.0933e+06,  3.0830e-41],\n",
            "        [ 3.3631e-44,  0.0000e+00],\n",
            "        [        nan,  6.4460e-44],\n",
            "        [ 1.1578e+27,  1.1362e+30]])\n"
          ]
        }
      ]
    },
    {
      "cell_type": "markdown",
      "metadata": {
        "id": "Azs9wpc76GFY"
      },
      "source": [
        "무작위로 초기화된 행렬"
      ]
    },
    {
      "cell_type": "code",
      "metadata": {
        "colab": {
          "base_uri": "https://localhost:8080/"
        },
        "id": "_mOj_bUh6ImO",
        "outputId": "98ec43af-73be-4d7e-d921-cf27909dd3d9"
      },
      "source": [
        "x = torch.rand(4,2)\n",
        "print(x)"
      ],
      "execution_count": null,
      "outputs": [
        {
          "output_type": "stream",
          "name": "stdout",
          "text": [
            "tensor([[0.4813, 0.4117],\n",
            "        [0.2581, 0.6176],\n",
            "        [0.1418, 0.0311],\n",
            "        [0.8318, 0.0941]])\n"
          ]
        }
      ]
    },
    {
      "cell_type": "markdown",
      "metadata": {
        "id": "PJ4pDd_q6eZw"
      },
      "source": [
        "dtype이 long, 0으로 채워진 텐서"
      ]
    },
    {
      "cell_type": "code",
      "metadata": {
        "colab": {
          "base_uri": "https://localhost:8080/"
        },
        "id": "0REUoYDb6dqu",
        "outputId": "677f78dc-e809-4068-d4e9-afcf7d8521df"
      },
      "source": [
        "x = torch.zeros(4, 2, dtype=torch.long)\n",
        "print(x)"
      ],
      "execution_count": null,
      "outputs": [
        {
          "output_type": "stream",
          "name": "stdout",
          "text": [
            "tensor([[0, 0],\n",
            "        [0, 0],\n",
            "        [0, 0],\n",
            "        [0, 0]])\n"
          ]
        }
      ]
    },
    {
      "cell_type": "code",
      "metadata": {
        "colab": {
          "base_uri": "https://localhost:8080/"
        },
        "id": "hBwlhMKw6sGO",
        "outputId": "44e083d7-bf37-46cc-a1b5-c2e002e13361"
      },
      "source": [
        "x = torch.tensor([3, 5])\n",
        "print(x)"
      ],
      "execution_count": null,
      "outputs": [
        {
          "output_type": "stream",
          "name": "stdout",
          "text": [
            "tensor([3, 5])\n"
          ]
        }
      ]
    },
    {
      "cell_type": "code",
      "metadata": {
        "colab": {
          "base_uri": "https://localhost:8080/"
        },
        "id": "-ltrZs9s6ykH",
        "outputId": "4ff14e03-2b54-4cc4-a5a3-28d82c915510"
      },
      "source": [
        "x = x.new_ones(2, 4, dtype = torch.double)\n",
        "print(x)"
      ],
      "execution_count": null,
      "outputs": [
        {
          "output_type": "stream",
          "name": "stdout",
          "text": [
            "tensor([[1., 1., 1., 1.],\n",
            "        [1., 1., 1., 1.]], dtype=torch.float64)\n"
          ]
        }
      ]
    },
    {
      "cell_type": "code",
      "metadata": {
        "colab": {
          "base_uri": "https://localhost:8080/"
        },
        "id": "_F9j-fac7AGg",
        "outputId": "5a62a4d2-d553-4548-d562-539c6c5b741d"
      },
      "source": [
        "x = torch.randn_like(x, dtype = torch.float)\n",
        "print(x)"
      ],
      "execution_count": null,
      "outputs": [
        {
          "output_type": "stream",
          "name": "stdout",
          "text": [
            "tensor([[ 0.7900,  0.1961,  1.9663, -1.7378],\n",
            "        [ 0.2743, -0.7884,  1.2362,  1.5084]])\n"
          ]
        }
      ]
    },
    {
      "cell_type": "markdown",
      "metadata": {
        "id": "PesB4B4h7N17"
      },
      "source": [
        "텐서의 크기"
      ]
    },
    {
      "cell_type": "code",
      "metadata": {
        "colab": {
          "base_uri": "https://localhost:8080/"
        },
        "id": "Nw_1FUvW7RQn",
        "outputId": "8082bb53-4552-4825-c039-7832bc56ad03"
      },
      "source": [
        "print(x.size())"
      ],
      "execution_count": null,
      "outputs": [
        {
          "output_type": "stream",
          "name": "stdout",
          "text": [
            "torch.Size([2, 4])\n"
          ]
        }
      ]
    },
    {
      "cell_type": "markdown",
      "metadata": {
        "id": "_M5MiLY-7U_g"
      },
      "source": [
        "텐서의 연산"
      ]
    },
    {
      "cell_type": "markdown",
      "metadata": {
        "id": "KwUiZ9YF7aPg"
      },
      "source": [
        "덧셈1"
      ]
    },
    {
      "cell_type": "code",
      "metadata": {
        "colab": {
          "base_uri": "https://localhost:8080/"
        },
        "id": "D-ATBDAZ7XCa",
        "outputId": "aaeed3d5-b121-44a4-d6ac-317798de561c"
      },
      "source": [
        "print(x)"
      ],
      "execution_count": null,
      "outputs": [
        {
          "output_type": "stream",
          "name": "stdout",
          "text": [
            "tensor([[ 0.7900,  0.1961,  1.9663, -1.7378],\n",
            "        [ 0.2743, -0.7884,  1.2362,  1.5084]])\n"
          ]
        }
      ]
    },
    {
      "cell_type": "code",
      "metadata": {
        "colab": {
          "base_uri": "https://localhost:8080/"
        },
        "id": "d-ruL5zG7fjb",
        "outputId": "56da615c-e244-4162-fedb-d86f350c4cd0"
      },
      "source": [
        "y = torch.rand(2,4)\n",
        "print(y)\n",
        "print(x + y)"
      ],
      "execution_count": null,
      "outputs": [
        {
          "output_type": "stream",
          "name": "stdout",
          "text": [
            "tensor([[0.8629, 0.0136, 0.8902, 0.5383],\n",
            "        [0.5002, 0.1786, 0.0049, 0.8448]])\n",
            "tensor([[ 1.6529,  0.2097,  2.8566, -1.1995],\n",
            "        [ 0.7745, -0.6098,  1.2411,  2.3531]])\n"
          ]
        }
      ]
    },
    {
      "cell_type": "markdown",
      "metadata": {
        "id": "TGiw-zkf7U6x"
      },
      "source": [
        "덧셈 2"
      ]
    },
    {
      "cell_type": "code",
      "metadata": {
        "colab": {
          "base_uri": "https://localhost:8080/"
        },
        "id": "WYXY6iFe7UeA",
        "outputId": "acf66f69-1768-40e9-d0e5-3cb4c2e9d687"
      },
      "source": [
        "print(torch.add(x,y))"
      ],
      "execution_count": null,
      "outputs": [
        {
          "output_type": "stream",
          "name": "stdout",
          "text": [
            "tensor([[ 1.6529,  0.2097,  2.8566, -1.1995],\n",
            "        [ 0.7745, -0.6098,  1.2411,  2.3531]])\n"
          ]
        }
      ]
    },
    {
      "cell_type": "markdown",
      "metadata": {
        "id": "cfUm7Nlu77TM"
      },
      "source": [
        "덧셈 3\n",
        "* 결과 텐서를 인자로 제공한다"
      ]
    },
    {
      "cell_type": "code",
      "metadata": {
        "colab": {
          "base_uri": "https://localhost:8080/"
        },
        "id": "MxTy9Cz576Ne",
        "outputId": "c015528a-b239-4823-bf36-0ff7f5f8d679"
      },
      "source": [
        "result = torch.empty(2, 4)\n",
        "torch.add(x, y, out=result)\n",
        "print(result)"
      ],
      "execution_count": null,
      "outputs": [
        {
          "output_type": "stream",
          "name": "stdout",
          "text": [
            "tensor([[ 1.6529,  0.2097,  2.8566, -1.1995],\n",
            "        [ 0.7745, -0.6098,  1.2411,  2.3531]])\n"
          ]
        }
      ]
    },
    {
      "cell_type": "markdown",
      "metadata": {
        "id": "lv4xLNBR8Kf1"
      },
      "source": [
        "덧셈 4\n",
        "* in-place 방식\n",
        "* (참고) in-place 방식\n",
        "    * in-place 방식으로 텐서의 값을 변경하는 연산 뒤에는_\"가 붙음\n",
        "    * x.copy_(y), x.t_()"
      ]
    },
    {
      "cell_type": "code",
      "metadata": {
        "colab": {
          "base_uri": "https://localhost:8080/"
        },
        "id": "dnWhOyVY8KHc",
        "outputId": "cc2e8342-73cc-45ef-f9fe-6665f82313a3"
      },
      "source": [
        "print(x)\n",
        "print(y)\n",
        "y.add_(x)   # y+=x\n",
        "print(y)"
      ],
      "execution_count": null,
      "outputs": [
        {
          "output_type": "stream",
          "name": "stdout",
          "text": [
            "tensor([[ 0.7900,  0.1961,  1.9663, -1.7378],\n",
            "        [ 0.2743, -0.7884,  1.2362,  1.5084]])\n",
            "tensor([[0.8629, 0.0136, 0.8902, 0.5383],\n",
            "        [0.5002, 0.1786, 0.0049, 0.8448]])\n",
            "tensor([[ 1.6529,  0.2097,  2.8566, -1.1995],\n",
            "        [ 0.7745, -0.6098,  1.2411,  2.3531]])\n"
          ]
        }
      ]
    },
    {
      "cell_type": "markdown",
      "metadata": {
        "id": "mOxAwU9g8vXy"
      },
      "source": [
        "그 외의 연산\n",
        "* torch.sub : 뺄셈\n",
        "* torch.mul : 곱셈\n",
        "* torch.div : 나눗셈\n",
        "* torch.mm : 내적(dot product)"
      ]
    },
    {
      "cell_type": "code",
      "metadata": {
        "colab": {
          "base_uri": "https://localhost:8080/"
        },
        "id": "1SvYOhMJ89zh",
        "outputId": "a6f00d8a-59b4-4cc7-f194-f2bed0a8b302"
      },
      "source": [
        "x = torch.Tensor([[1, 3],\n",
        "                  [5, 7]])\n",
        "y = torch.Tensor([[2, 4],\n",
        "                  [6, 8]])\n",
        "print(x - y)\n",
        "print(torch.sub(x,y))\n",
        "print(x.sub(y))"
      ],
      "execution_count": null,
      "outputs": [
        {
          "output_type": "stream",
          "name": "stdout",
          "text": [
            "tensor([[-1., -1.],\n",
            "        [-1., -1.]])\n",
            "tensor([[-1., -1.],\n",
            "        [-1., -1.]])\n",
            "tensor([[-1., -1.],\n",
            "        [-1., -1.]])\n"
          ]
        }
      ]
    },
    {
      "cell_type": "code",
      "metadata": {
        "colab": {
          "base_uri": "https://localhost:8080/"
        },
        "id": "WFLsoVXd8-Cv",
        "outputId": "72d1e4e6-eb41-4c31-a3fb-e807f67e29f7"
      },
      "source": [
        "x = torch.Tensor([[1, 3],\n",
        "                  [5, 7]])\n",
        "y = torch.Tensor([[2, 4],\n",
        "                  [6, 8]])\n",
        "print(x * y)\n",
        "print(torch.mul(x,y))\n",
        "print(x.mul(y))"
      ],
      "execution_count": null,
      "outputs": [
        {
          "output_type": "stream",
          "name": "stdout",
          "text": [
            "tensor([[ 2., 12.],\n",
            "        [30., 56.]])\n",
            "tensor([[ 2., 12.],\n",
            "        [30., 56.]])\n",
            "tensor([[ 2., 12.],\n",
            "        [30., 56.]])\n"
          ]
        }
      ]
    },
    {
      "cell_type": "code",
      "metadata": {
        "colab": {
          "base_uri": "https://localhost:8080/"
        },
        "id": "5KAPijEt8-ai",
        "outputId": "6f9e7d8b-fd36-4a72-de90-bdd0afd35cea"
      },
      "source": [
        "x = torch.Tensor([[1, 3],\n",
        "                  [5, 7]])\n",
        "y = torch.Tensor([[2, 4],\n",
        "                  [6, 8]])\n",
        "print(x / y)\n",
        "print(torch.div(x,y))\n",
        "print(x.div(y))"
      ],
      "execution_count": 4,
      "outputs": [
        {
          "output_type": "stream",
          "name": "stdout",
          "text": [
            "tensor([[0.5000, 0.7500],\n",
            "        [0.8333, 0.8750]])\n",
            "tensor([[0.5000, 0.7500],\n",
            "        [0.8333, 0.8750]])\n",
            "tensor([[0.5000, 0.7500],\n",
            "        [0.8333, 0.8750]])\n"
          ]
        }
      ]
    },
    {
      "cell_type": "code",
      "metadata": {
        "colab": {
          "base_uri": "https://localhost:8080/"
        },
        "id": "PjQ_YVmk8_E2",
        "outputId": "29d5a62e-e399-4052-c17d-45693a92769d"
      },
      "source": [
        "x = torch.Tensor([[1, 3],\n",
        "                  [5, 7]])\n",
        "y = torch.Tensor([[2, 4],\n",
        "                  [6, 8]])\n",
        "print(torch.mm(x,y))"
      ],
      "execution_count": null,
      "outputs": [
        {
          "output_type": "stream",
          "name": "stdout",
          "text": [
            "tensor([[20., 28.],\n",
            "        [52., 76.]])\n"
          ]
        }
      ]
    },
    {
      "cell_type": "markdown",
      "metadata": {
        "id": "8dby6y2N-Mfq"
      },
      "source": [
        "텐서의 조작"
      ]
    },
    {
      "cell_type": "markdown",
      "metadata": {
        "id": "VABQ9_7A-P9M"
      },
      "source": [
        "인덱싱\n",
        "* 넘파이처럼 인덱싱 가능"
      ]
    },
    {
      "cell_type": "code",
      "metadata": {
        "id": "YQcnvj1N-Pf4",
        "colab": {
          "base_uri": "https://localhost:8080/"
        },
        "outputId": "4361428b-33bb-4b61-f572-0e0a31f09bb1"
      },
      "source": [
        "print(x)"
      ],
      "execution_count": 5,
      "outputs": [
        {
          "output_type": "stream",
          "name": "stdout",
          "text": [
            "tensor([[1., 3.],\n",
            "        [5., 7.]])\n"
          ]
        }
      ]
    },
    {
      "cell_type": "code",
      "metadata": {
        "id": "UXiAXMjt-VfV",
        "colab": {
          "base_uri": "https://localhost:8080/"
        },
        "outputId": "7afffd51-bef4-4e5b-ca8a-1ff61ed80247"
      },
      "source": [
        "print(x[:,1])"
      ],
      "execution_count": 6,
      "outputs": [
        {
          "output_type": "stream",
          "name": "stdout",
          "text": [
            "tensor([3., 7.])\n"
          ]
        }
      ]
    },
    {
      "cell_type": "markdown",
      "metadata": {
        "id": "sAt3MYXxY9ld"
      },
      "source": [
        "view\n",
        "* 텐서의 크기(size)나 모양(shape)을 변경"
      ]
    },
    {
      "cell_type": "code",
      "metadata": {
        "colab": {
          "base_uri": "https://localhost:8080/"
        },
        "id": "wZPFV9G2Y8PS",
        "outputId": "6147e615-bd7e-4898-a6cc-01cc7eb09380"
      },
      "source": [
        "x = torch.randn(4, 5)\n",
        "y = x.view(20)\n",
        "z = x.view(5, -1)\n",
        "\n",
        "print(x)\n",
        "print(y.size())\n",
        "print(z)"
      ],
      "execution_count": 9,
      "outputs": [
        {
          "output_type": "stream",
          "name": "stdout",
          "text": [
            "tensor([[-1.1171,  1.6407, -0.0514,  0.2512,  1.5224],\n",
            "        [-1.1174, -0.4057, -1.0979, -1.9082, -1.0178],\n",
            "        [-1.5709,  0.6452, -1.9376, -0.1947,  0.0537],\n",
            "        [ 1.0262,  1.5741, -0.0763,  1.4364,  1.0147]])\n",
            "torch.Size([20])\n",
            "tensor([[-1.1171,  1.6407, -0.0514,  0.2512],\n",
            "        [ 1.5224, -1.1174, -0.4057, -1.0979],\n",
            "        [-1.9082, -1.0178, -1.5709,  0.6452],\n",
            "        [-1.9376, -0.1947,  0.0537,  1.0262],\n",
            "        [ 1.5741, -0.0763,  1.4364,  1.0147]])\n"
          ]
        }
      ]
    },
    {
      "cell_type": "markdown",
      "metadata": {
        "id": "G14iWRKsZo-v"
      },
      "source": [
        "item\n",
        "* 텐서에 값이 단 하나라도 존재하면 숫자 값을 얻을 수 있다."
      ]
    },
    {
      "cell_type": "code",
      "metadata": {
        "colab": {
          "base_uri": "https://localhost:8080/"
        },
        "id": "WVJXUrXTZzH_",
        "outputId": "8bdf27f7-583d-4e47-c9b2-96d8a19ae93b"
      },
      "source": [
        "x = torch.randn(1)\n",
        "print(x)\n",
        "print(x.item())\n",
        "print(x.dtype)"
      ],
      "execution_count": 10,
      "outputs": [
        {
          "output_type": "stream",
          "name": "stdout",
          "text": [
            "tensor([-0.8175])\n",
            "-0.8175256252288818\n",
            "torch.float32\n"
          ]
        }
      ]
    },
    {
      "cell_type": "markdown",
      "metadata": {
        "id": "3DDdNvziZvLZ"
      },
      "source": [
        "* 스칼라값 하나만 존재해야 한다"
      ]
    },
    {
      "cell_type": "code",
      "metadata": {
        "colab": {
          "base_uri": "https://localhost:8080/",
          "height": 239
        },
        "id": "kS0f1fiUaBHA",
        "outputId": "a83b7128-c730-4a39-9c1e-f15c25eaa679"
      },
      "source": [
        "x = torch.randn(2)\n",
        "print(x)\n",
        "print(x.item())\n",
        "print(x.dtype)"
      ],
      "execution_count": 12,
      "outputs": [
        {
          "output_type": "stream",
          "name": "stdout",
          "text": [
            "tensor([ 1.6228, -0.4411])\n"
          ]
        },
        {
          "output_type": "error",
          "ename": "ValueError",
          "evalue": "ignored",
          "traceback": [
            "\u001b[0;31m---------------------------------------------------------------------------\u001b[0m",
            "\u001b[0;31mValueError\u001b[0m                                Traceback (most recent call last)",
            "\u001b[0;32m<ipython-input-12-7c023f92a1c8>\u001b[0m in \u001b[0;36m<module>\u001b[0;34m()\u001b[0m\n\u001b[1;32m      1\u001b[0m \u001b[0mx\u001b[0m \u001b[0;34m=\u001b[0m \u001b[0mtorch\u001b[0m\u001b[0;34m.\u001b[0m\u001b[0mrandn\u001b[0m\u001b[0;34m(\u001b[0m\u001b[0;36m2\u001b[0m\u001b[0;34m)\u001b[0m\u001b[0;34m\u001b[0m\u001b[0;34m\u001b[0m\u001b[0m\n\u001b[1;32m      2\u001b[0m \u001b[0mprint\u001b[0m\u001b[0;34m(\u001b[0m\u001b[0mx\u001b[0m\u001b[0;34m)\u001b[0m\u001b[0;34m\u001b[0m\u001b[0;34m\u001b[0m\u001b[0m\n\u001b[0;32m----> 3\u001b[0;31m \u001b[0mprint\u001b[0m\u001b[0;34m(\u001b[0m\u001b[0mx\u001b[0m\u001b[0;34m.\u001b[0m\u001b[0mitem\u001b[0m\u001b[0;34m(\u001b[0m\u001b[0;34m)\u001b[0m\u001b[0;34m)\u001b[0m\u001b[0;34m\u001b[0m\u001b[0;34m\u001b[0m\u001b[0m\n\u001b[0m\u001b[1;32m      4\u001b[0m \u001b[0mprint\u001b[0m\u001b[0;34m(\u001b[0m\u001b[0mx\u001b[0m\u001b[0;34m.\u001b[0m\u001b[0mdtype\u001b[0m\u001b[0;34m)\u001b[0m\u001b[0;34m\u001b[0m\u001b[0;34m\u001b[0m\u001b[0m\n",
            "\u001b[0;31mValueError\u001b[0m: only one element tensors can be converted to Python scalars"
          ]
        }
      ]
    },
    {
      "cell_type": "markdown",
      "metadata": {
        "id": "Vvn3vN0SaVkX"
      },
      "source": [
        "squeeze\n",
        "* 차원을 축소(제거)"
      ]
    },
    {
      "cell_type": "code",
      "metadata": {
        "colab": {
          "base_uri": "https://localhost:8080/"
        },
        "id": "PepHC3JSahgn",
        "outputId": "59e4c553-96e2-4a25-f83b-a797bdffb5ef"
      },
      "source": [
        "tensor = torch.rand(1, 3, 3)\n",
        "print(tensor)\n",
        "tensor.shape"
      ],
      "execution_count": 15,
      "outputs": [
        {
          "output_type": "stream",
          "name": "stdout",
          "text": [
            "tensor([[[0.8477, 0.7884, 0.0682],\n",
            "         [0.0750, 0.9092, 0.1587],\n",
            "         [0.8196, 0.3837, 0.9440]]])\n"
          ]
        },
        {
          "output_type": "execute_result",
          "data": {
            "text/plain": [
              "torch.Size([1, 3, 3])"
            ]
          },
          "metadata": {},
          "execution_count": 15
        }
      ]
    },
    {
      "cell_type": "code",
      "metadata": {
        "colab": {
          "base_uri": "https://localhost:8080/"
        },
        "id": "hqmRoDxlah5S",
        "outputId": "f68b8b1a-46b5-42fc-a023-177d01bb02d6"
      },
      "source": [
        "t = tensor.squeeze()\n",
        "\n",
        "print(t)\n",
        "print(t.shape)"
      ],
      "execution_count": 16,
      "outputs": [
        {
          "output_type": "stream",
          "name": "stdout",
          "text": [
            "tensor([[0.8477, 0.7884, 0.0682],\n",
            "        [0.0750, 0.9092, 0.1587],\n",
            "        [0.8196, 0.3837, 0.9440]])\n",
            "torch.Size([3, 3])\n"
          ]
        }
      ]
    },
    {
      "cell_type": "markdown",
      "metadata": {
        "id": "R--5b8sSa2tn"
      },
      "source": [
        "unsqueeze\n",
        "* 차원을 증가(생성)"
      ]
    },
    {
      "cell_type": "code",
      "metadata": {
        "colab": {
          "base_uri": "https://localhost:8080/"
        },
        "id": "e0_oTNGka7B2",
        "outputId": "0a503085-7a0b-4b7e-89a7-82daab0c1224"
      },
      "source": [
        "tensor = torch.rand(1, 3, 3)\n",
        "print(tensor)\n",
        "tensor.shape"
      ],
      "execution_count": 17,
      "outputs": [
        {
          "output_type": "stream",
          "name": "stdout",
          "text": [
            "tensor([[[0.6184, 0.8896, 0.8315],\n",
            "         [0.5528, 0.1024, 0.1396],\n",
            "         [0.5739, 0.3796, 0.6726]]])\n"
          ]
        },
        {
          "output_type": "execute_result",
          "data": {
            "text/plain": [
              "torch.Size([1, 3, 3])"
            ]
          },
          "metadata": {},
          "execution_count": 17
        }
      ]
    },
    {
      "cell_type": "code",
      "metadata": {
        "colab": {
          "base_uri": "https://localhost:8080/"
        },
        "id": "-uMIF686bFmW",
        "outputId": "dac71cca-36bf-4ad7-8587-a61d654eb147"
      },
      "source": [
        "t = tensor.unsqueeze(dim=0)\n",
        "\n",
        "print(t)\n",
        "print(t.shape)"
      ],
      "execution_count": 19,
      "outputs": [
        {
          "output_type": "stream",
          "name": "stdout",
          "text": [
            "tensor([[[[0.6184, 0.8896, 0.8315],\n",
            "          [0.5528, 0.1024, 0.1396],\n",
            "          [0.5739, 0.3796, 0.6726]]]])\n",
            "torch.Size([1, 1, 3, 3])\n"
          ]
        }
      ]
    },
    {
      "cell_type": "markdown",
      "metadata": {
        "id": "PWRV6cItbWDz"
      },
      "source": [
        "stack\n",
        "* 텐서 간의 결합"
      ]
    },
    {
      "cell_type": "code",
      "metadata": {
        "colab": {
          "base_uri": "https://localhost:8080/"
        },
        "id": "P1XRMBRIbZ56",
        "outputId": "e935f55d-1f38-4948-96fa-21c40e9a7e7b"
      },
      "source": [
        "x = torch.FloatTensor([1, 4])   \n",
        "y = torch.FloatTensor([2, 5])\n",
        "z = torch.FloatTensor([3, 6])\n",
        "\n",
        "print(torch.stack([x, y, z]))"
      ],
      "execution_count": 20,
      "outputs": [
        {
          "output_type": "stream",
          "name": "stdout",
          "text": [
            "tensor([[1., 4.],\n",
            "        [2., 5.],\n",
            "        [3., 6.]])\n"
          ]
        }
      ]
    },
    {
      "cell_type": "markdown",
      "metadata": {
        "id": "he390FYHcj0t"
      },
      "source": [
        "cat\n",
        "* 텐서를 결합하는 메소드(concatenate)\n",
        "* 넘파이의 stack과 유사하지만, 쌓을 dim이 존재해야한다\n",
        "    * 예를 들어, 해당 차원을 늘려준 후 결합"
      ]
    },
    {
      "cell_type": "code",
      "metadata": {
        "colab": {
          "base_uri": "https://localhost:8080/"
        },
        "id": "kssdzHhKcx3w",
        "outputId": "27b83c13-a9df-4787-dd3d-22f24b7398f1"
      },
      "source": [
        "a = torch.randn(1, 1, 3, 3)\n",
        "b = torch.randn(1, 1, 3, 3)\n",
        "c = torch.cat((a,b), dim = 0)\n",
        "\n",
        "print(c)\n",
        "print(c.size())"
      ],
      "execution_count": 21,
      "outputs": [
        {
          "output_type": "stream",
          "name": "stdout",
          "text": [
            "tensor([[[[-0.7774,  0.0628,  1.0525],\n",
            "          [-0.6200, -0.5075,  1.1160],\n",
            "          [-0.3821,  1.5314, -0.2819]]],\n",
            "\n",
            "\n",
            "        [[[ 0.2576,  0.6808, -1.2694],\n",
            "          [-0.1599,  1.2908,  1.1413],\n",
            "          [-1.3066,  0.4849, -1.2241]]]])\n",
            "torch.Size([2, 1, 3, 3])\n"
          ]
        }
      ]
    },
    {
      "cell_type": "code",
      "metadata": {
        "colab": {
          "base_uri": "https://localhost:8080/"
        },
        "id": "lwvizXvdcyWz",
        "outputId": "0315b32c-745b-469a-d721-da7ad765044a"
      },
      "source": [
        "a = torch.randn(1, 3, 3)\n",
        "b = torch.randn(1, 3, 3)\n",
        "c = torch.cat((a,b), dim = 1)\n",
        "\n",
        "print(c)\n",
        "print(c.size())"
      ],
      "execution_count": 23,
      "outputs": [
        {
          "output_type": "stream",
          "name": "stdout",
          "text": [
            "tensor([[[-1.2572, -1.1359, -2.1293],\n",
            "         [ 1.4345, -1.5572,  0.9644],\n",
            "         [-1.1163, -0.6554, -0.0154],\n",
            "         [ 0.4953,  1.6261, -0.5537],\n",
            "         [ 0.1598, -2.3536,  0.9457],\n",
            "         [ 1.0745, -1.0366, -0.1145]]])\n",
            "torch.Size([1, 6, 3])\n"
          ]
        }
      ]
    },
    {
      "cell_type": "markdown",
      "metadata": {
        "id": "nTMoCGZ2gL_n"
      },
      "source": [
        "chuck\n",
        "* 텐서를 여러 개로 나눌 때 사용\n",
        "* 몇 개의 텐서로 나눌 것이냐"
      ]
    },
    {
      "cell_type": "code",
      "metadata": {
        "colab": {
          "base_uri": "https://localhost:8080/"
        },
        "id": "ZPFSZjGigRre",
        "outputId": "9a4c025b-760c-4c64-949f-23d45badace8"
      },
      "source": [
        "tensor = torch.rand(3 , 6)\n",
        "t1, t2, t3 = torch.chunk(tensor, 3, dim = 1)    # 텐서의 개수\n",
        "print(tensor)\n",
        "print(t1)\n",
        "print(t2)\n",
        "print(t3)"
      ],
      "execution_count": 25,
      "outputs": [
        {
          "output_type": "stream",
          "name": "stdout",
          "text": [
            "tensor([[0.8624, 0.5048, 0.1536, 0.6649, 0.8849, 0.9469],\n",
            "        [0.7164, 0.1237, 0.5540, 0.5239, 0.8460, 0.4120],\n",
            "        [0.2052, 0.6266, 0.1277, 0.9179, 0.9667, 0.6981]])\n",
            "tensor([[0.8624, 0.5048],\n",
            "        [0.7164, 0.1237],\n",
            "        [0.2052, 0.6266]])\n",
            "tensor([[0.1536, 0.6649],\n",
            "        [0.5540, 0.5239],\n",
            "        [0.1277, 0.9179]])\n",
            "tensor([[0.8849, 0.9469],\n",
            "        [0.8460, 0.4120],\n",
            "        [0.9667, 0.6981]])\n"
          ]
        }
      ]
    },
    {
      "cell_type": "markdown",
      "metadata": {
        "id": "x0ySSbXcgpYL"
      },
      "source": [
        "split\n",
        "* chunck와 동일한 기능이지만 조금 다름\n",
        "* 하나의 텐서당 크기가 얼마이냐\n"
      ]
    },
    {
      "cell_type": "code",
      "metadata": {
        "colab": {
          "base_uri": "https://localhost:8080/"
        },
        "id": "iucgEAUygzpJ",
        "outputId": "64ef3aec-9559-4a55-b617-3affbfe810d9"
      },
      "source": [
        "tensor = torch.rand(3 , 6)\n",
        "t1, t2 = torch.split(tensor, 3, dim = 1)    # 텐서의 크기\n",
        "print(tensor)\n",
        "print(t1)\n",
        "print(t2)"
      ],
      "execution_count": 27,
      "outputs": [
        {
          "output_type": "stream",
          "name": "stdout",
          "text": [
            "tensor([[0.5324, 0.9960, 0.0923, 0.5145, 0.7233, 0.9356],\n",
            "        [0.8177, 0.2830, 0.4575, 0.1741, 0.5628, 0.1680],\n",
            "        [0.0947, 0.0785, 0.0756, 0.8229, 0.7646, 0.6668]])\n",
            "tensor([[0.5324, 0.9960, 0.0923],\n",
            "        [0.8177, 0.2830, 0.4575],\n",
            "        [0.0947, 0.0785, 0.0756]])\n",
            "tensor([[0.5145, 0.7233, 0.9356],\n",
            "        [0.1741, 0.5628, 0.1680],\n",
            "        [0.8229, 0.7646, 0.6668]])\n"
          ]
        }
      ]
    },
    {
      "cell_type": "markdown",
      "metadata": {
        "id": "-jaRg5sghPYr"
      },
      "source": [
        "torch <-> numpy\n",
        "* Torch Tensor(텐서)를 Numpy array(배열)로 변환 가능\n",
        "  * numpy()\n",
        "  * from_numpy()\n",
        "* (참고)\n",
        "  * Tensor가 CPU상에 있다면 Numpy 배열은 메모리 공간을 공유하므로 하나가 변하면, 다른 하나도 변함"
      ]
    },
    {
      "cell_type": "code",
      "metadata": {
        "colab": {
          "base_uri": "https://localhost:8080/"
        },
        "id": "K-wybleAhKCJ",
        "outputId": "e903ba6f-c67a-4868-c19d-e2cc99a0c57b"
      },
      "source": [
        "a = torch.ones(7)\n",
        "print(a)"
      ],
      "execution_count": 32,
      "outputs": [
        {
          "output_type": "stream",
          "name": "stdout",
          "text": [
            "tensor([1., 1., 1., 1., 1., 1., 1.])\n"
          ]
        }
      ]
    },
    {
      "cell_type": "code",
      "metadata": {
        "colab": {
          "base_uri": "https://localhost:8080/"
        },
        "id": "6VVX3cfNhnGd",
        "outputId": "4381e255-30ea-4ad5-cd34-48394367b38a"
      },
      "source": [
        "b = a.numpy()\n",
        "print(b)"
      ],
      "execution_count": 33,
      "outputs": [
        {
          "output_type": "stream",
          "name": "stdout",
          "text": [
            "[1. 1. 1. 1. 1. 1. 1.]\n"
          ]
        }
      ]
    },
    {
      "cell_type": "code",
      "metadata": {
        "colab": {
          "base_uri": "https://localhost:8080/"
        },
        "id": "3eLm3xuchnkr",
        "outputId": "95af76a3-6240-4ea7-a333-76157d1ac68d"
      },
      "source": [
        "a.add_(1)\n",
        "print(a)\n",
        "print(b)"
      ],
      "execution_count": 34,
      "outputs": [
        {
          "output_type": "stream",
          "name": "stdout",
          "text": [
            "tensor([2., 2., 2., 2., 2., 2., 2.])\n",
            "[2. 2. 2. 2. 2. 2. 2.]\n"
          ]
        }
      ]
    },
    {
      "cell_type": "code",
      "metadata": {
        "colab": {
          "base_uri": "https://localhost:8080/"
        },
        "id": "j9K-D5Ekhn3h",
        "outputId": "ef46d979-33f4-4ff5-c8fd-e79e4cc00364"
      },
      "source": [
        "import numpy as np\n",
        "\n",
        "a = np.ones(7)\n",
        "b = torch.from_numpy(a)\n",
        "np.add(a, 1, out=a)\n",
        "print(a)\n",
        "print(b)"
      ],
      "execution_count": 35,
      "outputs": [
        {
          "output_type": "stream",
          "name": "stdout",
          "text": [
            "[2. 2. 2. 2. 2. 2. 2.]\n",
            "tensor([2., 2., 2., 2., 2., 2., 2.], dtype=torch.float64)\n"
          ]
        }
      ]
    },
    {
      "cell_type": "markdown",
      "metadata": {
        "id": "_JYyf0n8iXbT"
      },
      "source": [
        "CUDA Tensors\n",
        "* .to 메소드를 사용하여 텐서를 어떠한 장치로도 옮길 수 있다\n",
        "  * 예) CPU, GPU"
      ]
    },
    {
      "cell_type": "code",
      "metadata": {
        "id": "UgG6Z1u5ihpp"
      },
      "source": [
        "import torch"
      ],
      "execution_count": 56,
      "outputs": []
    },
    {
      "cell_type": "code",
      "metadata": {
        "colab": {
          "base_uri": "https://localhost:8080/"
        },
        "id": "JHrAx77HijAy",
        "outputId": "5ebda51b-1b77-4aa7-f79e-f2cc917286de"
      },
      "source": [
        "x = torch.randn(1)\n",
        "print(x)\n",
        "print(x.item())\n",
        "print(x.dtype)"
      ],
      "execution_count": 57,
      "outputs": [
        {
          "output_type": "stream",
          "name": "stdout",
          "text": [
            "tensor([-2.1467])\n",
            "-2.146679162979126\n",
            "torch.float32\n"
          ]
        }
      ]
    },
    {
      "cell_type": "code",
      "metadata": {
        "colab": {
          "base_uri": "https://localhost:8080/"
        },
        "id": "zPUOKNssijbk",
        "outputId": "cd732ddb-3df1-4ee5-c581-079d819d255a"
      },
      "source": [
        "device = torch.device(\"cuda\" if torch.cuda.is_available() else \"cpu\")\n",
        "\n",
        "y = torch.ones_like(x, device=device)\n",
        "x = x.to(device)\n",
        "z = x + y\n",
        "print(device)\n",
        "print(z)\n",
        "print(z.to(\"cpu\", torch.double))"
      ],
      "execution_count": 58,
      "outputs": [
        {
          "output_type": "stream",
          "name": "stdout",
          "text": [
            "cpu\n",
            "tensor([-1.1467])\n",
            "tensor([-1.1467], dtype=torch.float64)\n"
          ]
        }
      ]
    },
    {
      "cell_type": "markdown",
      "metadata": {
        "id": "bM0ZKjyPkORi"
      },
      "source": [
        "AUTOGRAD(자동미분)\n",
        "* autograd 패키지는 Tensor의 모든 연산에 대해  자동 미분 제공\n",
        "* 이는 코드를 어떻게 작성하여 실행하느냐에 따라 역전파가 정의된다는 뜻\n",
        "* backprop를 위한 미분값을 자동으로 계산"
      ]
    },
    {
      "cell_type": "markdown",
      "metadata": {
        "id": "EC1qFj3IkNrZ"
      },
      "source": [
        "Tensor\n",
        "* data: tensor 형태의 데이터\n",
        "* grad: data가 거쳐온 layer에 대한 미분값 저장\n",
        "* grad_fn: 미분값을 계산한 함수에 대한 정보 저장(어떤 함수에 대해서 backprop 했는지)\n",
        "* requires_grad 속성을 True로 설정하면, 해당 텐서에서 이루어지는 모든 연산들을 추적하기 시작\n",
        "* 계산이 완료된 후, .backward()를 호출하면 자동으로 gradient를 계산할 수 있으며, .grad 속성에 누적됨\n",
        "* 기록을 추적하는 것을 중단하게 하려면, .detach()를 호출하여 연산기록으로부터 분리\n",
        "* 기록을 추적하는 것을 방지하기 위해 코드 블럭을 with torch.no_grad():로 감싸면 gradient는 필요없지만, requires_grad=True로 설정되어 학습 가능한 매개변수를 갖는 모델을 평가(evaluate)할 때 유용\n",
        "* Autograd 구현에서 매우 중요한 클래스: Function 클래스"
      ]
    },
    {
      "cell_type": "code",
      "metadata": {
        "id": "uSEKFYuMlsmE"
      },
      "source": [
        "import torch"
      ],
      "execution_count": null,
      "outputs": []
    },
    {
      "cell_type": "code",
      "metadata": {
        "colab": {
          "base_uri": "https://localhost:8080/"
        },
        "id": "wHy-jbM7ltHG",
        "outputId": "f790c3e0-1006-4e7c-9a5d-236e1efec03d"
      },
      "source": [
        "x = torch.ones(3, 3, requires_grad=True)\n",
        "print(x)"
      ],
      "execution_count": 38,
      "outputs": [
        {
          "output_type": "stream",
          "name": "stdout",
          "text": [
            "tensor([[1., 1., 1.],\n",
            "        [1., 1., 1.],\n",
            "        [1., 1., 1.]], requires_grad=True)\n"
          ]
        }
      ]
    },
    {
      "cell_type": "code",
      "metadata": {
        "colab": {
          "base_uri": "https://localhost:8080/"
        },
        "id": "TG46g9YzmHWz",
        "outputId": "bc84390d-67cf-4a72-d2bb-7a496f56d1e9"
      },
      "source": [
        "y = x + 5\n",
        "print(y)"
      ],
      "execution_count": 39,
      "outputs": [
        {
          "output_type": "stream",
          "name": "stdout",
          "text": [
            "tensor([[6., 6., 6.],\n",
            "        [6., 6., 6.],\n",
            "        [6., 6., 6.]], grad_fn=<AddBackward0>)\n"
          ]
        }
      ]
    },
    {
      "cell_type": "code",
      "metadata": {
        "colab": {
          "base_uri": "https://localhost:8080/"
        },
        "id": "jbfpm4BOmRS9",
        "outputId": "0628e62e-74f8-4058-970a-c80e462a8fb0"
      },
      "source": [
        "print(y.grad_fn)"
      ],
      "execution_count": 40,
      "outputs": [
        {
          "output_type": "stream",
          "name": "stdout",
          "text": [
            "<AddBackward0 object at 0x7fc3c3c0c190>\n"
          ]
        }
      ]
    },
    {
      "cell_type": "code",
      "metadata": {
        "colab": {
          "base_uri": "https://localhost:8080/"
        },
        "id": "fXaEdIaEmXEc",
        "outputId": "5530ce07-c1ec-4f12-901e-f74c73af3733"
      },
      "source": [
        "z = y * y * 2\n",
        "out = z.mean()\n",
        "\n",
        "print(z, out)"
      ],
      "execution_count": 41,
      "outputs": [
        {
          "output_type": "stream",
          "name": "stdout",
          "text": [
            "tensor([[72., 72., 72.],\n",
            "        [72., 72., 72.],\n",
            "        [72., 72., 72.]], grad_fn=<MulBackward0>) tensor(72., grad_fn=<MeanBackward0>)\n"
          ]
        }
      ]
    },
    {
      "cell_type": "markdown",
      "metadata": {
        "id": "cCymrrzumvmb"
      },
      "source": [
        "* requires_grad_(...)는 기존 텐서의 requires_grad값을 바꿔치기(in-place)하여 변경"
      ]
    },
    {
      "cell_type": "code",
      "metadata": {
        "colab": {
          "base_uri": "https://localhost:8080/"
        },
        "id": "4kZ4QwWSm6lT",
        "outputId": "77ded841-db71-4fbb-9802-ecc5346efa3b"
      },
      "source": [
        "a = torch.randn(3, 3)\n",
        "a = ((a * 3)/ (a - 1))\n",
        "print(a.requires_grad)\n",
        "\n",
        "a.requires_grad_(True)\n",
        "print(a.requires_grad)\n",
        "\n",
        "b = (a * a).sum()\n",
        "print(b.grad_fn)"
      ],
      "execution_count": 43,
      "outputs": [
        {
          "output_type": "stream",
          "name": "stdout",
          "text": [
            "False\n",
            "True\n",
            "<SumBackward0 object at 0x7fc3c3b87d50>\n"
          ]
        }
      ]
    },
    {
      "cell_type": "markdown",
      "metadata": {
        "id": "zNtgeSrNnYtw"
      },
      "source": [
        "기울기(Gradient)\n",
        "* 역전파: .backward()를 통해 역전파 계산 가능"
      ]
    },
    {
      "cell_type": "code",
      "metadata": {
        "id": "Y4qtuEBFngFd"
      },
      "source": [
        "out.backward()"
      ],
      "execution_count": 44,
      "outputs": []
    },
    {
      "cell_type": "code",
      "metadata": {
        "colab": {
          "base_uri": "https://localhost:8080/"
        },
        "id": "VMRBaQEgngY7",
        "outputId": "8ca1585e-4073-4940-f585-ae4ea9326f4d"
      },
      "source": [
        "print(x.grad)"
      ],
      "execution_count": 45,
      "outputs": [
        {
          "output_type": "stream",
          "name": "stdout",
          "text": [
            "tensor([[2.6667, 2.6667, 2.6667],\n",
            "        [2.6667, 2.6667, 2.6667],\n",
            "        [2.6667, 2.6667, 2.6667]])\n"
          ]
        }
      ]
    },
    {
      "cell_type": "code",
      "metadata": {
        "colab": {
          "base_uri": "https://localhost:8080/"
        },
        "id": "1eiYbB4vnt22",
        "outputId": "84e787ee-f11e-4f26-a64a-e2ed99ef7ece"
      },
      "source": [
        "x = torch.randn(3, requires_grad = True)\n",
        "\n",
        "y = x * 2\n",
        "while y.data.norm() < 1000:\n",
        "  y = y * 2\n",
        "\n",
        "print(y)"
      ],
      "execution_count": 48,
      "outputs": [
        {
          "output_type": "stream",
          "name": "stdout",
          "text": [
            "tensor([  -68.1170, -1390.4310,  -435.3651], grad_fn=<MulBackward0>)\n"
          ]
        }
      ]
    },
    {
      "cell_type": "code",
      "metadata": {
        "colab": {
          "base_uri": "https://localhost:8080/"
        },
        "id": "H8GJDnXJosWX",
        "outputId": "0f23158c-b84b-48eb-a918-9eec48afb4c3"
      },
      "source": [
        "v = torch.tensor([0.1, 1.0, 0.0001], dtype=torch.float)\n",
        "y.backward(v)\n",
        "\n",
        "print(x.grad)"
      ],
      "execution_count": 50,
      "outputs": [
        {
          "output_type": "stream",
          "name": "stdout",
          "text": [
            "tensor([5.1200e+01, 5.1200e+02, 5.1200e-02])\n"
          ]
        }
      ]
    },
    {
      "cell_type": "markdown",
      "metadata": {
        "id": "qlXc9kYFp1Cj"
      },
      "source": [
        "with torch.no_grad()를 허용하여 gradient의 업데이트를 하지 않는다"
      ]
    },
    {
      "cell_type": "code",
      "metadata": {
        "colab": {
          "base_uri": "https://localhost:8080/"
        },
        "id": "rJcNJFuwp0h7",
        "outputId": "496acae8-8e3f-45bc-a288-36c0153508de"
      },
      "source": [
        "print(x.requires_grad)\n",
        "print((x**2).requires_grad)\n",
        "\n",
        "with torch.no_grad():\n",
        "  print((x**2).requires_grad)"
      ],
      "execution_count": 51,
      "outputs": [
        {
          "output_type": "stream",
          "name": "stdout",
          "text": [
            "True\n",
            "True\n",
            "False\n"
          ]
        }
      ]
    },
    {
      "cell_type": "markdown",
      "metadata": {
        "id": "J9lHtOrYqNeV"
      },
      "source": [
        "detach(): 내용물(content)은 같지만 require_grad가 다른 새로운 Tensor를 가져올 때"
      ]
    },
    {
      "cell_type": "code",
      "metadata": {
        "colab": {
          "base_uri": "https://localhost:8080/"
        },
        "id": "4llq-2yJqcHU",
        "outputId": "d2de88b3-138a-41a3-bc3a-5787e04733d0"
      },
      "source": [
        "print(x.requires_grad)\n",
        "y = x.detach()\n",
        "print(y.requires_grad)\n",
        "print(x.eq(y).all())"
      ],
      "execution_count": 52,
      "outputs": [
        {
          "output_type": "stream",
          "name": "stdout",
          "text": [
            "True\n",
            "False\n",
            "tensor(True)\n"
          ]
        }
      ]
    },
    {
      "cell_type": "markdown",
      "metadata": {
        "id": "Oehy1mTVrcpO"
      },
      "source": [
        "자동 미분 흐름"
      ]
    },
    {
      "cell_type": "code",
      "metadata": {
        "id": "0RnKDrsRreon"
      },
      "source": [
        "import torch"
      ],
      "execution_count": 53,
      "outputs": []
    },
    {
      "cell_type": "code",
      "metadata": {
        "colab": {
          "base_uri": "https://localhost:8080/"
        },
        "id": "UoQYLFBUre72",
        "outputId": "d808cc8a-7cac-44f1-9d64-be89af0693a6"
      },
      "source": [
        "a = torch.ones(2, 2)\n",
        "print(a)"
      ],
      "execution_count": 54,
      "outputs": [
        {
          "output_type": "stream",
          "name": "stdout",
          "text": [
            "tensor([[1., 1.],\n",
            "        [1., 1.]])\n"
          ]
        }
      ]
    },
    {
      "cell_type": "code",
      "metadata": {
        "colab": {
          "base_uri": "https://localhost:8080/"
        },
        "id": "V4lfG5ykrfa4",
        "outputId": "dcd0d4df-269f-4270-bc23-f7b813e8b592"
      },
      "source": [
        "a = torch.ones(2, 2, requires_grad=True)\n",
        "print(a)"
      ],
      "execution_count": 65,
      "outputs": [
        {
          "output_type": "stream",
          "name": "stdout",
          "text": [
            "tensor([[1., 1.],\n",
            "        [1., 1.]], requires_grad=True)\n"
          ]
        }
      ]
    },
    {
      "cell_type": "code",
      "metadata": {
        "colab": {
          "base_uri": "https://localhost:8080/"
        },
        "id": "nswQ1cUIrfym",
        "outputId": "4f367455-caec-4cad-cd17-d237abd4da1a"
      },
      "source": [
        "print(\"a.data:\",a)\n",
        "print(\"a.grad:\", a.grad)\n",
        "print(\"a.grad_fn\", a.grad_fn)"
      ],
      "execution_count": 66,
      "outputs": [
        {
          "output_type": "stream",
          "name": "stdout",
          "text": [
            "a.data: tensor([[1., 1.],\n",
            "        [1., 1.]], requires_grad=True)\n",
            "a.grad: None\n",
            "a.grad_fn None\n"
          ]
        }
      ]
    },
    {
      "cell_type": "markdown",
      "metadata": {
        "id": "H26zhfJAr_X-"
      },
      "source": [
        "* b = a + 2"
      ]
    },
    {
      "cell_type": "code",
      "metadata": {
        "colab": {
          "base_uri": "https://localhost:8080/"
        },
        "id": "KPMpEW7wsCaF",
        "outputId": "c9b98471-77f0-4ee8-f66a-68aac9a1d5ff"
      },
      "source": [
        "b = a + 2\n",
        "print(b)\n",
        "print(\"a.grad:\", a.grad)"
      ],
      "execution_count": 67,
      "outputs": [
        {
          "output_type": "stream",
          "name": "stdout",
          "text": [
            "tensor([[3., 3.],\n",
            "        [3., 3.]], grad_fn=<AddBackward0>)\n",
            "a.grad: None\n"
          ]
        }
      ]
    },
    {
      "cell_type": "markdown",
      "metadata": {
        "id": "HxAKK27msMS1"
      },
      "source": [
        "* c = b^2"
      ]
    },
    {
      "cell_type": "code",
      "metadata": {
        "colab": {
          "base_uri": "https://localhost:8080/"
        },
        "id": "8hLzh77msFzc",
        "outputId": "ca89265a-9f7d-463a-ef49-76c9fadffd1f"
      },
      "source": [
        "c = b**2\n",
        "print(c)\n",
        "print(\"a.grad:\", a.grad)"
      ],
      "execution_count": 68,
      "outputs": [
        {
          "output_type": "stream",
          "name": "stdout",
          "text": [
            "tensor([[9., 9.],\n",
            "        [9., 9.]], grad_fn=<PowBackward0>)\n",
            "a.grad: None\n"
          ]
        }
      ]
    },
    {
      "cell_type": "code",
      "metadata": {
        "colab": {
          "base_uri": "https://localhost:8080/"
        },
        "id": "j2TmSpWRsgWE",
        "outputId": "7dc1e56b-b314-45b8-efc6-50f3eb5a72c9"
      },
      "source": [
        "out = c.sum()\n",
        "print(out)\n",
        "print(\"a.grad:\", a.grad)"
      ],
      "execution_count": 69,
      "outputs": [
        {
          "output_type": "stream",
          "name": "stdout",
          "text": [
            "tensor(36., grad_fn=<SumBackward0>)\n",
            "a.grad: None\n"
          ]
        }
      ]
    },
    {
      "cell_type": "code",
      "metadata": {
        "colab": {
          "base_uri": "https://localhost:8080/"
        },
        "id": "w2mA327osksN",
        "outputId": "a1ce70cd-e173-48b1-e65b-9c5ff6c9f834"
      },
      "source": [
        "print(out)\n",
        "out.backward()        # None 부분을 채워줄 때 사용하는 함수\n",
        "print(\"a.grad:\", a.grad)"
      ],
      "execution_count": 70,
      "outputs": [
        {
          "output_type": "stream",
          "name": "stdout",
          "text": [
            "tensor(36., grad_fn=<SumBackward0>)\n",
            "a.grad: tensor([[6., 6.],\n",
            "        [6., 6.]])\n"
          ]
        }
      ]
    },
    {
      "cell_type": "markdown",
      "metadata": {
        "id": "Ov6cMz5JszWs"
      },
      "source": [
        "* a의 grad_fn이 None인 이유\n",
        "직접적으로 계산한 부분이 없었기 때문이다"
      ]
    },
    {
      "cell_type": "code",
      "metadata": {
        "colab": {
          "base_uri": "https://localhost:8080/"
        },
        "id": "bAI-bIT6s7Yp",
        "outputId": "2f72ce7c-f8dc-444d-c6c3-eb0873b983bf"
      },
      "source": [
        "print(\"a.data:\",a.data)\n",
        "print(\"a.grad:\", a.grad)\n",
        "print(\"a.grad_fn\", a.grad_fn)"
      ],
      "execution_count": 71,
      "outputs": [
        {
          "output_type": "stream",
          "name": "stdout",
          "text": [
            "a.data: tensor([[1., 1.],\n",
            "        [1., 1.]])\n",
            "a.grad: tensor([[6., 6.],\n",
            "        [6., 6.]])\n",
            "a.grad_fn None\n"
          ]
        }
      ]
    },
    {
      "cell_type": "code",
      "metadata": {
        "colab": {
          "base_uri": "https://localhost:8080/"
        },
        "id": "xisqISWLuQfc",
        "outputId": "dc02f575-7269-4683-c5e4-e3e35b9a26bf"
      },
      "source": [
        "print(\"b.data:\",b.data)\n",
        "print(\"b.grad:\", b.grad)\n",
        "print(\"b.grad_fn\", b.grad_fn)"
      ],
      "execution_count": 72,
      "outputs": [
        {
          "output_type": "stream",
          "name": "stdout",
          "text": [
            "b.data: tensor([[3., 3.],\n",
            "        [3., 3.]])\n",
            "b.grad: None\n",
            "b.grad_fn <AddBackward0 object at 0x7fc3c3c85990>\n"
          ]
        },
        {
          "output_type": "stream",
          "name": "stderr",
          "text": [
            "/usr/local/lib/python3.7/dist-packages/ipykernel_launcher.py:2: UserWarning: The .grad attribute of a Tensor that is not a leaf Tensor is being accessed. Its .grad attribute won't be populated during autograd.backward(). If you indeed want the gradient for a non-leaf Tensor, use .retain_grad() on the non-leaf Tensor. If you access the non-leaf Tensor by mistake, make sure you access the leaf Tensor instead. See github.com/pytorch/pytorch/pull/30531 for more information.\n",
            "  \n"
          ]
        }
      ]
    },
    {
      "cell_type": "code",
      "metadata": {
        "colab": {
          "base_uri": "https://localhost:8080/"
        },
        "id": "PteLun4OuqjB",
        "outputId": "3e4230a4-3bd7-47f1-8154-57a3b0ee8c92"
      },
      "source": [
        "print(\"c.data:\",c.data)\n",
        "print(\"c.grad:\", c.grad)\n",
        "print(\"c.grad_fn\", c.grad_fn)"
      ],
      "execution_count": 73,
      "outputs": [
        {
          "output_type": "stream",
          "name": "stdout",
          "text": [
            "c.data: tensor([[9., 9.],\n",
            "        [9., 9.]])\n",
            "c.grad: None\n",
            "c.grad_fn <PowBackward0 object at 0x7fc3c3d1bc10>\n"
          ]
        },
        {
          "output_type": "stream",
          "name": "stderr",
          "text": [
            "/usr/local/lib/python3.7/dist-packages/ipykernel_launcher.py:2: UserWarning: The .grad attribute of a Tensor that is not a leaf Tensor is being accessed. Its .grad attribute won't be populated during autograd.backward(). If you indeed want the gradient for a non-leaf Tensor, use .retain_grad() on the non-leaf Tensor. If you access the non-leaf Tensor by mistake, make sure you access the leaf Tensor instead. See github.com/pytorch/pytorch/pull/30531 for more information.\n",
            "  \n"
          ]
        }
      ]
    },
    {
      "cell_type": "code",
      "metadata": {
        "colab": {
          "base_uri": "https://localhost:8080/"
        },
        "id": "6xNQzuBSu4lj",
        "outputId": "ed29630e-a917-4ba2-9a23-eeefb2da8404"
      },
      "source": [
        "print(\"out.data:\", out.data)\n",
        "print(\"out.grad:\", out.grad)\n",
        "print(\"out.grad_fn\", out.grad_fn)"
      ],
      "execution_count": 74,
      "outputs": [
        {
          "output_type": "stream",
          "name": "stdout",
          "text": [
            "out.data: tensor(36.)\n",
            "out.grad: None\n",
            "out.grad_fn <SumBackward0 object at 0x7fc3c3c57d50>\n"
          ]
        },
        {
          "output_type": "stream",
          "name": "stderr",
          "text": [
            "/usr/local/lib/python3.7/dist-packages/ipykernel_launcher.py:2: UserWarning: The .grad attribute of a Tensor that is not a leaf Tensor is being accessed. Its .grad attribute won't be populated during autograd.backward(). If you indeed want the gradient for a non-leaf Tensor, use .retain_grad() on the non-leaf Tensor. If you access the non-leaf Tensor by mistake, make sure you access the leaf Tensor instead. See github.com/pytorch/pytorch/pull/30531 for more information.\n",
            "  \n"
          ]
        }
      ]
    },
    {
      "cell_type": "code",
      "metadata": {
        "id": "MDGoq_k_vAkr"
      },
      "source": [
        "* grad값을 넣어서 backward\n",
        "* 아래의 코드에서 .grad값이 None은 gradient값이 필요하지 않기 때문이다"
      ],
      "execution_count": null,
      "outputs": []
    },
    {
      "cell_type": "code",
      "metadata": {
        "colab": {
          "base_uri": "https://localhost:8080/"
        },
        "id": "hIAxSShmvKh-",
        "outputId": "1d08cad7-9620-4ebf-9a83-527284b930bf"
      },
      "source": [
        "x = torch.ones(3, requires_grad=True)\n",
        "y = (x**2)\n",
        "z = y**2 + x\n",
        "out = z.sum()\n",
        "print(out)"
      ],
      "execution_count": 75,
      "outputs": [
        {
          "output_type": "stream",
          "name": "stdout",
          "text": [
            "tensor(6., grad_fn=<SumBackward0>)\n"
          ]
        }
      ]
    },
    {
      "cell_type": "code",
      "metadata": {
        "id": "D8U-APgjvhf-"
      },
      "source": [
        "grad = torch.Tensor([0.1, 1, 100])\n",
        "z.backward(grad)"
      ],
      "execution_count": 76,
      "outputs": []
    },
    {
      "cell_type": "code",
      "metadata": {
        "colab": {
          "base_uri": "https://localhost:8080/"
        },
        "id": "mpdfy0iTvobf",
        "outputId": "e39a6ca8-ee1c-44ee-efe4-40d8af041488"
      },
      "source": [
        "print(\"x.data:\",x.data)\n",
        "print(\"x.grad:\", x.grad)\n",
        "print(\"x.grad_fn\", x.grad_fn)"
      ],
      "execution_count": 77,
      "outputs": [
        {
          "output_type": "stream",
          "name": "stdout",
          "text": [
            "x.data: tensor([1., 1., 1.])\n",
            "x.grad: tensor([  0.5000,   5.0000, 500.0000])\n",
            "x.grad_fn None\n"
          ]
        }
      ]
    },
    {
      "cell_type": "code",
      "metadata": {
        "colab": {
          "base_uri": "https://localhost:8080/"
        },
        "id": "Q9eVg6pEv6Ii",
        "outputId": "971cdf9e-b44f-414d-a114-3d73dd79a25b"
      },
      "source": [
        "print(\"y.data:\",y.data)\n",
        "print(\"y.grad:\", y.grad)\n",
        "print(\"y.grad_fn\", y.grad_fn)"
      ],
      "execution_count": 78,
      "outputs": [
        {
          "output_type": "stream",
          "name": "stdout",
          "text": [
            "y.data: tensor([1., 1., 1.])\n",
            "y.grad: None\n",
            "y.grad_fn <PowBackward0 object at 0x7fc3c3afc910>\n"
          ]
        },
        {
          "output_type": "stream",
          "name": "stderr",
          "text": [
            "/usr/local/lib/python3.7/dist-packages/ipykernel_launcher.py:2: UserWarning: The .grad attribute of a Tensor that is not a leaf Tensor is being accessed. Its .grad attribute won't be populated during autograd.backward(). If you indeed want the gradient for a non-leaf Tensor, use .retain_grad() on the non-leaf Tensor. If you access the non-leaf Tensor by mistake, make sure you access the leaf Tensor instead. See github.com/pytorch/pytorch/pull/30531 for more information.\n",
            "  \n"
          ]
        }
      ]
    },
    {
      "cell_type": "code",
      "metadata": {
        "colab": {
          "base_uri": "https://localhost:8080/"
        },
        "id": "lrCCdzUuwEWI",
        "outputId": "25e3e373-8185-483f-cebb-61464ebc9113"
      },
      "source": [
        "print(\"z.data:\",z.data)\n",
        "print(\"z.grad:\", z.grad)\n",
        "print(\"z.grad_fn\", z.grad_fn)"
      ],
      "execution_count": 79,
      "outputs": [
        {
          "output_type": "stream",
          "name": "stdout",
          "text": [
            "z.data: tensor([2., 2., 2.])\n",
            "z.grad: None\n",
            "z.grad_fn <AddBackward0 object at 0x7fc3c7dbd850>\n"
          ]
        },
        {
          "output_type": "stream",
          "name": "stderr",
          "text": [
            "/usr/local/lib/python3.7/dist-packages/ipykernel_launcher.py:2: UserWarning: The .grad attribute of a Tensor that is not a leaf Tensor is being accessed. Its .grad attribute won't be populated during autograd.backward(). If you indeed want the gradient for a non-leaf Tensor, use .retain_grad() on the non-leaf Tensor. If you access the non-leaf Tensor by mistake, make sure you access the leaf Tensor instead. See github.com/pytorch/pytorch/pull/30531 for more information.\n",
            "  \n"
          ]
        }
      ]
    },
    {
      "cell_type": "markdown",
      "metadata": {
        "id": "SGAX9Sm6wOIe"
      },
      "source": [
        "nn & nn.functional\n",
        "* 두 패키지가 같은 가능이지만 방식이 조금 다르다\n",
        "* 위의 autograd 관련 작업들을 두 패키지를 통해 진행할 수 있다\n",
        "* 텐서를 직접 다룰 때 requires_grad와 같은 방식으로 진행할 수 있다\n",
        "* 결론적으로, torch.nn은 attribute를 활용해 state를 저장하고 활용하고, torch.nn.functional로 구현한 함수의 경우에는 인스턴스화 시킬 필요 없이 사용이 가능"
      ]
    },
    {
      "cell_type": "markdown",
      "metadata": {
        "id": "v_60zUlkwvxl"
      },
      "source": [
        "nn 패키지\n",
        "* 주로 가중치, 편향 값들이 내부에서 자동으로 생성되는 레이어들을 사용할 때\n",
        "  * 따라서, weight값들을 직접 선언 안한다\n",
        "* 예시\n",
        "  * Containers\n",
        "  * Convolution Layers\n",
        "  * Pooling Layers\n",
        "  * Padding Layers\n",
        "  * Non-linear Activations(weighted sum, nonlinearity)\n",
        "  * Non-linear Activations(other)\n",
        "  * Normailzation Layers\n",
        "  * Recurrent Layers\n",
        "  * Transformer Layers\n",
        "  * Dropout Layers\n",
        "  * Sparse Layers\n",
        "  * Distance Functions\n",
        "  * Loss Functions\n",
        "  * .."
      ]
    },
    {
      "cell_type": "code",
      "metadata": {
        "id": "TZfNmQOcxhCG"
      },
      "source": [
        "import torch\n",
        "import torch.nn as nn"
      ],
      "execution_count": 2,
      "outputs": []
    },
    {
      "cell_type": "markdown",
      "metadata": {
        "id": "Yb1oepMaxoRZ"
      },
      "source": [
        "* Convolution Layer 예시"
      ]
    },
    {
      "cell_type": "code",
      "metadata": {
        "id": "Ejp4A6nNxm2-"
      },
      "source": [
        "m = nn.Conv2d(16, 33, 3, stride = 2)\n",
        "\n",
        "m = nn.Conv2d(16, 33, (3, 5), stride = (2, 1), padding = (4, 2))\n",
        "\n",
        "m = nn.Conv2d(16, 33, (3, 5), stride = (2, 1), padding = (4, 2), dilation = (3, 1))\n",
        "\n",
        "input = torch.randn(20, 16 , 50 ,100)\n",
        "output = m(input)"
      ],
      "execution_count": 3,
      "outputs": []
    },
    {
      "cell_type": "code",
      "metadata": {
        "colab": {
          "base_uri": "https://localhost:8080/"
        },
        "id": "iGUfvNwph8f_",
        "outputId": "75170a4a-7b48-4e32-f1ac-67862522a9ea"
      },
      "source": [
        "output.shape"
      ],
      "execution_count": 4,
      "outputs": [
        {
          "output_type": "execute_result",
          "data": {
            "text/plain": [
              "torch.Size([20, 33, 26, 100])"
            ]
          },
          "metadata": {},
          "execution_count": 4
        }
      ]
    },
    {
      "cell_type": "markdown",
      "metadata": {
        "id": "rQzCOIIqvSbT"
      },
      "source": [
        "nn.functional 패키지\n",
        "* 가중치를 직접 선언하여 인자로 넣어줘야 한다"
      ]
    },
    {
      "cell_type": "code",
      "metadata": {
        "id": "JASXg317vbjx"
      },
      "source": [
        "import torch\n",
        "import torch.nn.functional as F"
      ],
      "execution_count": 61,
      "outputs": []
    },
    {
      "cell_type": "markdown",
      "metadata": {
        "id": "JdDuYJ9-viIk"
      },
      "source": [
        "* Convolution Layer 예시"
      ]
    },
    {
      "cell_type": "code",
      "metadata": {
        "id": "OuivcEyNvm5p"
      },
      "source": [
        "filters = torch.randn(8, 4, 3, 3)"
      ],
      "execution_count": 62,
      "outputs": []
    },
    {
      "cell_type": "code",
      "metadata": {
        "colab": {
          "base_uri": "https://localhost:8080/"
        },
        "id": "jtt2sPWBvrUt",
        "outputId": "49cd7806-12f1-4476-edfe-6b1c82fdaa4d"
      },
      "source": [
        "inputs = torch.randn(1, 4, 5, 5)\n",
        "conv = F.conv2d(inputs, filters, padding = 1)\n",
        "conv.shape"
      ],
      "execution_count": 63,
      "outputs": [
        {
          "output_type": "execute_result",
          "data": {
            "text/plain": [
              "torch.Size([1, 8, 5, 5])"
            ]
          },
          "metadata": {},
          "execution_count": 63
        }
      ]
    },
    {
      "cell_type": "markdown",
      "metadata": {
        "id": "WHDLzx4NiV90"
      },
      "source": [
        "Torchvision\n",
        "* transforms: 전처리할 때 사용하는 메소드\n",
        "* transforms에서 제공하는 클래스 이외에 일반적으로 클래스를 따로 만들어 전처리 단계를 진행"
      ]
    },
    {
      "cell_type": "code",
      "metadata": {
        "id": "tUOBeu84ihrw"
      },
      "source": [
        "import torch\n",
        "import torchvision\n",
        "import torchvision.transforms as transforms"
      ],
      "execution_count": 5,
      "outputs": []
    },
    {
      "cell_type": "markdown",
      "metadata": {
        "id": "SnA_upUzjGv1"
      },
      "source": [
        "* 예시)\n",
        "  * DataLoader의 인자로 들어갈 transform을 미리 정의할 수 있다.\n",
        "  * Compose를 통해 리스트 안에 순서대로 전처리 진행\n",
        "  * 대표적인 예로, ToTensor()를 하는 이유는 torchvision이 PIL Image형태로만 입력을 받기 때문에 데이터 처리를 위해서 Tensor형으로 변환해야 한다"
      ]
    },
    {
      "cell_type": "code",
      "metadata": {
        "id": "p41OzRchjenm"
      },
      "source": [
        "transform = transforms.Compose([transforms.ToTensor(),\n",
        "                                transforms.Normalize(mean=(0.5,), std=(0.5,))])"
      ],
      "execution_count": 10,
      "outputs": []
    },
    {
      "cell_type": "markdown",
      "metadata": {
        "id": "UiMVlkifjs-q"
      },
      "source": [
        "utils.data\n",
        "* Dataset에는 다양한 데이터셋이 존재\n",
        "  * MNIST, CIFAR10,...\n",
        "* DataLoader, Dataset을 통해 batch_size, train여부, transform 등을 인자로 넣어 데이터를 어떻게 load할 것인지 정해줄 수 있다."
      ]
    },
    {
      "cell_type": "code",
      "metadata": {
        "id": "dTk9vgEWkAlz"
      },
      "source": [
        "import torch\n",
        "from torch.utils.data import Dataset, DataLoader\n",
        "\n",
        "import torchvision\n",
        "import torchvision.transforms as transforms\n"
      ],
      "execution_count": 11,
      "outputs": []
    },
    {
      "cell_type": "code",
      "metadata": {
        "colab": {
          "base_uri": "https://localhost:8080/",
          "height": 482,
          "referenced_widgets": [
            "2ee55ef76c8f4122b3e8df72c7bf9efb",
            "f342fed2554744bdb6fff3db325e677d",
            "56333e73d90c4e4b9a4ecee59723494d",
            "94f0b266a74742b98c2ec7a5a653e8cb",
            "ff81d80bc7e7403fa1e3212c04841b53",
            "7facd25b5faf4788aa593cb942565807",
            "379d5e2eb0404cafbbdd8721c3fa2da1",
            "80f4c926be21486aacd68fbf6df64f3f",
            "38512a1644ff4914a34af66778c10492",
            "5c5b9f095a104b529e4c0aefc407ee3c",
            "86b54b63df7a4b51bc776ed4ee317e30"
          ]
        },
        "id": "yrfRprpXkSQj",
        "outputId": "e01192a7-1a69-4b34-8825-c5ad435f60d9"
      },
      "source": [
        "trainset = torchvision.datasets.MNIST(root='/content/',\n",
        "                                      train = True,\n",
        "                                      download = True,\n",
        "                                      transform = transform)\n",
        "testset = torchvision.datasets.MNIST(root='/content/',\n",
        "                                      train = False,\n",
        "                                      download = True,\n",
        "                                      transform = transform)"
      ],
      "execution_count": 12,
      "outputs": [
        {
          "output_type": "stream",
          "name": "stdout",
          "text": [
            "Downloading http://yann.lecun.com/exdb/mnist/train-images-idx3-ubyte.gz\n",
            "Downloading http://yann.lecun.com/exdb/mnist/train-images-idx3-ubyte.gz to /content/MNIST/raw/train-images-idx3-ubyte.gz\n"
          ]
        },
        {
          "output_type": "display_data",
          "data": {
            "application/vnd.jupyter.widget-view+json": {
              "model_id": "2ee55ef76c8f4122b3e8df72c7bf9efb",
              "version_minor": 0,
              "version_major": 2
            },
            "text/plain": [
              "  0%|          | 0/9912422 [00:00<?, ?it/s]"
            ]
          },
          "metadata": {}
        },
        {
          "output_type": "stream",
          "name": "stdout",
          "text": [
            "Extracting /content/MNIST/raw/train-images-idx3-ubyte.gz to /content/MNIST/raw\n",
            "\n",
            "Downloading http://yann.lecun.com/exdb/mnist/train-labels-idx1-ubyte.gz\n",
            "Downloading http://yann.lecun.com/exdb/mnist/train-labels-idx1-ubyte.gz to /content/MNIST/raw/train-labels-idx1-ubyte.gz\n"
          ]
        },
        {
          "output_type": "display_data",
          "data": {
            "application/vnd.jupyter.widget-view+json": {
              "model_id": "6b0a07fee9be4addae702666684b2939",
              "version_minor": 0,
              "version_major": 2
            },
            "text/plain": [
              "  0%|          | 0/28881 [00:00<?, ?it/s]"
            ]
          },
          "metadata": {}
        },
        {
          "output_type": "stream",
          "name": "stdout",
          "text": [
            "Extracting /content/MNIST/raw/train-labels-idx1-ubyte.gz to /content/MNIST/raw\n",
            "\n",
            "Downloading http://yann.lecun.com/exdb/mnist/t10k-images-idx3-ubyte.gz\n",
            "Downloading http://yann.lecun.com/exdb/mnist/t10k-images-idx3-ubyte.gz to /content/MNIST/raw/t10k-images-idx3-ubyte.gz\n"
          ]
        },
        {
          "output_type": "display_data",
          "data": {
            "application/vnd.jupyter.widget-view+json": {
              "model_id": "1fd86793d2e2474087a42bc53eb11575",
              "version_minor": 0,
              "version_major": 2
            },
            "text/plain": [
              "  0%|          | 0/1648877 [00:00<?, ?it/s]"
            ]
          },
          "metadata": {}
        },
        {
          "output_type": "stream",
          "name": "stdout",
          "text": [
            "Extracting /content/MNIST/raw/t10k-images-idx3-ubyte.gz to /content/MNIST/raw\n",
            "\n",
            "Downloading http://yann.lecun.com/exdb/mnist/t10k-labels-idx1-ubyte.gz\n",
            "Downloading http://yann.lecun.com/exdb/mnist/t10k-labels-idx1-ubyte.gz to /content/MNIST/raw/t10k-labels-idx1-ubyte.gz\n"
          ]
        },
        {
          "output_type": "display_data",
          "data": {
            "application/vnd.jupyter.widget-view+json": {
              "model_id": "385f33cbc7c54d538a8526ef5d67e04d",
              "version_minor": 0,
              "version_major": 2
            },
            "text/plain": [
              "  0%|          | 0/4542 [00:00<?, ?it/s]"
            ]
          },
          "metadata": {}
        },
        {
          "output_type": "stream",
          "name": "stdout",
          "text": [
            "Extracting /content/MNIST/raw/t10k-labels-idx1-ubyte.gz to /content/MNIST/raw\n",
            "\n"
          ]
        },
        {
          "output_type": "stream",
          "name": "stderr",
          "text": [
            "/usr/local/lib/python3.7/dist-packages/torchvision/datasets/mnist.py:498: UserWarning: The given NumPy array is not writeable, and PyTorch does not support non-writeable tensors. This means you can write to the underlying (supposedly non-writeable) NumPy array using the tensor. You may want to copy the array to protect its data or make it writeable before converting it to a tensor. This type of warning will be suppressed for the rest of this program. (Triggered internally at  /pytorch/torch/csrc/utils/tensor_numpy.cpp:180.)\n",
            "  return torch.from_numpy(parsed.astype(m[2], copy=False)).view(*s)\n"
          ]
        }
      ]
    },
    {
      "cell_type": "code",
      "metadata": {
        "id": "dNy89UcglXxg"
      },
      "source": [
        "train_loader = DataLoader(trainset, batch_size=8, shuffle = True, num_workers=2)\n",
        "train_loader = DataLoader(trainset, batch_size=8, shuffle = False, num_workers=2)"
      ],
      "execution_count": 13,
      "outputs": []
    },
    {
      "cell_type": "markdown",
      "metadata": {
        "id": "3rh8LacrluKE"
      },
      "source": [
        "* batch_size만큼 데이터를 하나씩 가져온다"
      ]
    },
    {
      "cell_type": "code",
      "metadata": {
        "colab": {
          "base_uri": "https://localhost:8080/"
        },
        "id": "zFdeO0oLlyG3",
        "outputId": "529f3317-a2f3-46a5-f7bb-3610719b6e85"
      },
      "source": [
        "dataiter = iter(train_loader)\n",
        "images, labels = dataiter.next()\n",
        "images.shape, labels.shape"
      ],
      "execution_count": 14,
      "outputs": [
        {
          "output_type": "execute_result",
          "data": {
            "text/plain": [
              "(torch.Size([8, 1, 28, 28]), torch.Size([8]))"
            ]
          },
          "metadata": {},
          "execution_count": 14
        }
      ]
    },
    {
      "cell_type": "markdown",
      "metadata": {
        "id": "Y98rynswm_6f"
      },
      "source": [
        "(중요) torch에서는 channel(채널)이 앞에 온다\n",
        "  * channel first\n",
        "  * tensorflow, keras 등에서는 channel이 뒤에 온다"
      ]
    },
    {
      "cell_type": "markdown",
      "metadata": {
        "id": "90i6MlmtnN_0"
      },
      "source": [
        "데이터 확인"
      ]
    },
    {
      "cell_type": "code",
      "metadata": {
        "id": "stALBr8qnNBA"
      },
      "source": [
        "import matplotlib.pyplot as plt\n",
        "plt.style.use('seaborn-white')"
      ],
      "execution_count": 15,
      "outputs": []
    },
    {
      "cell_type": "code",
      "metadata": {
        "colab": {
          "base_uri": "https://localhost:8080/"
        },
        "id": "yICGUu6inYAi",
        "outputId": "f50b33c9-0c15-4304-cf1d-5825c0413178"
      },
      "source": [
        "torch_image = torch.squeeze(images[0])\n",
        "torch_image.shape"
      ],
      "execution_count": 16,
      "outputs": [
        {
          "output_type": "execute_result",
          "data": {
            "text/plain": [
              "torch.Size([28, 28])"
            ]
          },
          "metadata": {},
          "execution_count": 16
        }
      ]
    },
    {
      "cell_type": "code",
      "metadata": {
        "colab": {
          "base_uri": "https://localhost:8080/"
        },
        "id": "OGNCJDgsngDo",
        "outputId": "45e8c9b4-d06c-424e-8fc9-740b07d824be"
      },
      "source": [
        "image = torch_image.numpy()\n",
        "image.shape"
      ],
      "execution_count": 17,
      "outputs": [
        {
          "output_type": "execute_result",
          "data": {
            "text/plain": [
              "(28, 28)"
            ]
          },
          "metadata": {},
          "execution_count": 17
        }
      ]
    },
    {
      "cell_type": "code",
      "metadata": {
        "colab": {
          "base_uri": "https://localhost:8080/"
        },
        "id": "Q6kVQDvHnlkJ",
        "outputId": "e44ebe37-28bb-4f0d-ce3a-4f79f7b4df97"
      },
      "source": [
        "label = labels[0].numpy()\n",
        "label.shape"
      ],
      "execution_count": 20,
      "outputs": [
        {
          "output_type": "execute_result",
          "data": {
            "text/plain": [
              "()"
            ]
          },
          "metadata": {},
          "execution_count": 20
        }
      ]
    },
    {
      "cell_type": "code",
      "metadata": {
        "colab": {
          "base_uri": "https://localhost:8080/"
        },
        "id": "btEXVYxHnuRI",
        "outputId": "eeda14d2-3702-4814-8dbc-90c40f4d7656"
      },
      "source": [
        "label"
      ],
      "execution_count": 21,
      "outputs": [
        {
          "output_type": "execute_result",
          "data": {
            "text/plain": [
              "array(5)"
            ]
          },
          "metadata": {},
          "execution_count": 21
        }
      ]
    },
    {
      "cell_type": "code",
      "metadata": {
        "colab": {
          "base_uri": "https://localhost:8080/",
          "height": 277
        },
        "id": "jLUOz6BinqRB",
        "outputId": "fcbea18c-4444-4313-d09b-ea0bb31b8765"
      },
      "source": [
        "plt.title(label)\n",
        "plt.imshow(image, 'gray')\n",
        "plt.show()"
      ],
      "execution_count": 22,
      "outputs": [
        {
          "output_type": "display_data",
          "data": {
            "image/png": "[encoded data removed]",
            "text/plain": [
              "<Figure size 432x288 with 1 Axes>"
            ]
          },
          "metadata": {}
        }
      ]
    },
    {
      "cell_type": "markdown",
      "metadata": {
        "id": "ZjFXfNCNoOvB"
      },
      "source": [
        "Layer 설명"
      ]
    },
    {
      "cell_type": "code",
      "metadata": {
        "id": "8devvmMYoQZh"
      },
      "source": [
        "import torch\n",
        "import torch.nn as nn\n",
        "import torch.nn.functional as F\n",
        "import torch.optim as optim\n"
      ],
      "execution_count": 23,
      "outputs": []
    },
    {
      "cell_type": "markdown",
      "metadata": {
        "id": "E0n50wHiod7x"
      },
      "source": [
        "nn.Conv2d\n",
        "* in_channels: channel의 갯수\n",
        "* out_channels: 출력 채널의 갯수\n",
        "* kernel_size: 커널(필터) 사이즈\n",
        "* Tensorflow,keras와 다르게 레이어의 input인자에도 값을 집어 넣어줘야 한다"
      ]
    },
    {
      "cell_type": "code",
      "metadata": {
        "colab": {
          "base_uri": "https://localhost:8080/"
        },
        "id": "BGDRB_R7oygi",
        "outputId": "045fbbca-ca72-4186-fda7-d7514f54c0ce"
      },
      "source": [
        "nn.Conv2d(in_channels = 1, out_channels= 20, kernel_size=5, stride=1)\n",
        "layer = nn.Conv2d(1, 20, 5, 1).to(torch.device('cpu'))\n",
        "layer"
      ],
      "execution_count": 26,
      "outputs": [
        {
          "output_type": "execute_result",
          "data": {
            "text/plain": [
              "Conv2d(1, 20, kernel_size=(5, 5), stride=(1, 1))"
            ]
          },
          "metadata": {},
          "execution_count": 26
        }
      ]
    },
    {
      "cell_type": "markdown",
      "metadata": {
        "id": "lYeFJFMMpI8Z"
      },
      "source": [
        "* weight 확인"
      ]
    },
    {
      "cell_type": "code",
      "metadata": {
        "colab": {
          "base_uri": "https://localhost:8080/"
        },
        "id": "pIaPoj2Lo_qb",
        "outputId": "57e54a81-f2f7-4811-e04f-f9b5ac116965"
      },
      "source": [
        "weight = layer.weight\n",
        "weight.shape"
      ],
      "execution_count": 27,
      "outputs": [
        {
          "output_type": "execute_result",
          "data": {
            "text/plain": [
              "torch.Size([20, 1, 5, 5])"
            ]
          },
          "metadata": {},
          "execution_count": 27
        }
      ]
    },
    {
      "cell_type": "markdown",
      "metadata": {
        "id": "O1BM9AA2phq-"
      },
      "source": [
        "* weight는 detach()를 통해 꺼내줘야 numpy()변환이 가능"
      ]
    },
    {
      "cell_type": "code",
      "metadata": {
        "id": "SCShjjMUpneP"
      },
      "source": [
        "weight = weight.detach()"
      ],
      "execution_count": 28,
      "outputs": []
    },
    {
      "cell_type": "code",
      "metadata": {
        "colab": {
          "base_uri": "https://localhost:8080/"
        },
        "id": "K0tzuac4pq0x",
        "outputId": "293520db-6e57-4a38-8af1-3291968ded0f"
      },
      "source": [
        "weight = weight.numpy()\n",
        "weight.shape"
      ],
      "execution_count": 29,
      "outputs": [
        {
          "output_type": "execute_result",
          "data": {
            "text/plain": [
              "(20, 1, 5, 5)"
            ]
          },
          "metadata": {},
          "execution_count": 29
        }
      ]
    },
    {
      "cell_type": "code",
      "metadata": {
        "colab": {
          "base_uri": "https://localhost:8080/",
          "height": 262
        },
        "id": "kb9P6gA6pw0k",
        "outputId": "8e6f479c-02ea-48dc-8fe8-a07d2cb0cd65"
      },
      "source": [
        "plt.imshow(weight[0, 0, :, :], 'jet')\n",
        "plt.colorbar()\n",
        "plt.show()"
      ],
      "execution_count": 30,
      "outputs": [
        {
          "output_type": "display_data",
          "data": {
            "image/png": "[encoded data removed]",
            "text/plain": [
              "<Figure size 432x288 with 2 Axes>"
            ]
          },
          "metadata": {}
        }
      ]
    },
    {
      "cell_type": "code",
      "metadata": {
        "colab": {
          "base_uri": "https://localhost:8080/"
        },
        "id": "b5NqiduAqER0",
        "outputId": "bd058dc3-0e8e-4755-81b6-df009b656092"
      },
      "source": [
        "print(images.shape)"
      ],
      "execution_count": 31,
      "outputs": [
        {
          "output_type": "stream",
          "name": "stdout",
          "text": [
            "torch.Size([8, 1, 28, 28])\n"
          ]
        }
      ]
    },
    {
      "cell_type": "code",
      "metadata": {
        "id": "LIOdEISaqINk"
      },
      "source": [
        "input_image = torch.unsqueeze(images[0], dim = 0)"
      ],
      "execution_count": 33,
      "outputs": []
    },
    {
      "cell_type": "code",
      "metadata": {
        "id": "STULYOq-qTle"
      },
      "source": [
        "output_data = layer(input_image)"
      ],
      "execution_count": 34,
      "outputs": []
    },
    {
      "cell_type": "code",
      "metadata": {
        "id": "HdH7PBdhqZXG"
      },
      "source": [
        "output = output_data.data"
      ],
      "execution_count": 35,
      "outputs": []
    },
    {
      "cell_type": "code",
      "metadata": {
        "colab": {
          "base_uri": "https://localhost:8080/"
        },
        "id": "ivnroBZgqcl3",
        "outputId": "4cd69485-fe56-4d9b-aa0b-db7d1335e558"
      },
      "source": [
        "output_arr = output.numpy()\n",
        "output_arr.shape"
      ],
      "execution_count": 36,
      "outputs": [
        {
          "output_type": "execute_result",
          "data": {
            "text/plain": [
              "(1, 20, 24, 24)"
            ]
          },
          "metadata": {},
          "execution_count": 36
        }
      ]
    },
    {
      "cell_type": "code",
      "metadata": {
        "colab": {
          "base_uri": "https://localhost:8080/",
          "height": 306
        },
        "id": "PJY9euG1qhxK",
        "outputId": "f312c069-8b5c-4779-8868-d044cd13ab3b"
      },
      "source": [
        "plt.figure(figsize=(15, 30))\n",
        "\n",
        "plt.subplot(131)\n",
        "plt.title(\"Input\")\n",
        "plt.imshow(image, 'gray')\n",
        "plt.subplot(132)\n",
        "plt.title(\"Weight\")\n",
        "plt.imshow(weight[0, 0, :, :], 'jet')\n",
        "plt.subplot(133)\n",
        "plt.title(\"Output\")\n",
        "plt.imshow(output_arr[0, 0, :, :], 'gray')\n",
        "plt.show()"
      ],
      "execution_count": 38,
      "outputs": [
        {
          "output_type": "display_data",
          "data": {
            "image/png": "[encoded data removed]",
            "text/plain": [
              "<Figure size 1080x2160 with 3 Axes>"
            ]
          },
          "metadata": {}
        }
      ]
    },
    {
      "cell_type": "markdown",
      "metadata": {
        "id": "sTWJX0B8rXAi"
      },
      "source": [
        "Pooling\n",
        "* F.max_pool2d\n",
        "  * stride\n",
        "  * kernel_size\n",
        "  * torch.nn.MaxPool2d도 많이 사용"
      ]
    },
    {
      "cell_type": "code",
      "metadata": {
        "colab": {
          "base_uri": "https://localhost:8080/"
        },
        "id": "XnoOuWymrjOL",
        "outputId": "a9d3268d-7cb3-408d-ac6e-5238850d83c8"
      },
      "source": [
        "image.shape"
      ],
      "execution_count": 39,
      "outputs": [
        {
          "output_type": "execute_result",
          "data": {
            "text/plain": [
              "(28, 28)"
            ]
          },
          "metadata": {},
          "execution_count": 39
        }
      ]
    },
    {
      "cell_type": "code",
      "metadata": {
        "colab": {
          "base_uri": "https://localhost:8080/"
        },
        "id": "eDLrrVdorr13",
        "outputId": "024851d8-800a-4cd9-eccc-fe476ffd33d2"
      },
      "source": [
        "pool = F.max_pool2d(output, 2, 2)\n",
        "pool.shape"
      ],
      "execution_count": 40,
      "outputs": [
        {
          "output_type": "stream",
          "name": "stderr",
          "text": [
            "/usr/local/lib/python3.7/dist-packages/torch/nn/functional.py:718: UserWarning: Named tensors and all their associated APIs are an experimental feature and subject to change. Please do not use them for anything important until they are released as stable. (Triggered internally at  /pytorch/c10/core/TensorImpl.h:1156.)\n",
            "  return torch.max_pool2d(input, kernel_size, stride, padding, dilation, ceil_mode)\n"
          ]
        },
        {
          "output_type": "execute_result",
          "data": {
            "text/plain": [
              "torch.Size([1, 20, 12, 12])"
            ]
          },
          "metadata": {},
          "execution_count": 40
        }
      ]
    },
    {
      "cell_type": "markdown",
      "metadata": {
        "id": "s9gT5DVTrzY9"
      },
      "source": [
        "* MaxPool Layer는 weigh가 없기 때문에 바로 numpy()변환이 가능하다"
      ]
    },
    {
      "cell_type": "code",
      "metadata": {
        "colab": {
          "base_uri": "https://localhost:8080/"
        },
        "id": "1dRRzw3jr5CE",
        "outputId": "d9a01e37-ca68-4bcd-b594-d71baff37322"
      },
      "source": [
        "pool_arr = pool.numpy()\n",
        "pool_arr.shape"
      ],
      "execution_count": 41,
      "outputs": [
        {
          "output_type": "execute_result",
          "data": {
            "text/plain": [
              "(1, 20, 12, 12)"
            ]
          },
          "metadata": {},
          "execution_count": 41
        }
      ]
    },
    {
      "cell_type": "code",
      "metadata": {
        "colab": {
          "base_uri": "https://localhost:8080/",
          "height": 330
        },
        "id": "L1omoSu0sAMO",
        "outputId": "35dbe37b-d11c-4a4d-849e-f3b68c7f5eed"
      },
      "source": [
        "plt.figure(figsize=(10, 15))\n",
        "plt.subplot(121)\n",
        "plt.title(\"Input\")\n",
        "plt.imshow(image, 'gray')\n",
        "plt.subplot(122)\n",
        "plt.title(\"Output\")\n",
        "plt.imshow(pool_arr[0, 0, :, :], 'gray')\n",
        "plt.show"
      ],
      "execution_count": 42,
      "outputs": [
        {
          "output_type": "execute_result",
          "data": {
            "text/plain": [
              "<function matplotlib.pyplot.show>"
            ]
          },
          "metadata": {},
          "execution_count": 42
        },
        {
          "output_type": "display_data",
          "data": {
            "image/png": "[encoded data removed]",
            "text/plain": [
              "<Figure size 720x1080 with 2 Axes>"
            ]
          },
          "metadata": {}
        }
      ]
    },
    {
      "cell_type": "markdown",
      "metadata": {
        "id": "dPNuqP7zsdXf"
      },
      "source": [
        "Linear\n",
        "* 1d만 가능 .view()를 통해 1D로 펼쳐줘야한다"
      ]
    },
    {
      "cell_type": "code",
      "metadata": {
        "colab": {
          "base_uri": "https://localhost:8080/"
        },
        "id": "RUoHm2Bvsiql",
        "outputId": "6a394197-b94c-4cad-b3c8-f8eb37f5646b"
      },
      "source": [
        "image = torch.from_numpy(image)\n",
        "image.shape"
      ],
      "execution_count": 43,
      "outputs": [
        {
          "output_type": "execute_result",
          "data": {
            "text/plain": [
              "torch.Size([28, 28])"
            ]
          },
          "metadata": {},
          "execution_count": 43
        }
      ]
    },
    {
      "cell_type": "code",
      "metadata": {
        "colab": {
          "base_uri": "https://localhost:8080/"
        },
        "id": "YXohYPJhsoiG",
        "outputId": "e3e477b3-60bf-480b-a283-d0f5bc780075"
      },
      "source": [
        "flatten = image.view(1, 28* 28)\n",
        "flatten.shape"
      ],
      "execution_count": 44,
      "outputs": [
        {
          "output_type": "execute_result",
          "data": {
            "text/plain": [
              "torch.Size([1, 784])"
            ]
          },
          "metadata": {},
          "execution_count": 44
        }
      ]
    },
    {
      "cell_type": "code",
      "metadata": {
        "colab": {
          "base_uri": "https://localhost:8080/"
        },
        "id": "VDThB9KXsvTd",
        "outputId": "e5331f6f-266e-4c28-fe6a-fa0b7bab47f4"
      },
      "source": [
        "lin = nn.Linear(784, 10)(flatten)\n",
        "lin.shape"
      ],
      "execution_count": 45,
      "outputs": [
        {
          "output_type": "execute_result",
          "data": {
            "text/plain": [
              "torch.Size([1, 10])"
            ]
          },
          "metadata": {},
          "execution_count": 45
        }
      ]
    },
    {
      "cell_type": "code",
      "metadata": {
        "colab": {
          "base_uri": "https://localhost:8080/"
        },
        "id": "w3Z8ojUMs3Jf",
        "outputId": "6e96ed51-2f26-4319-9ee2-9790928e7e71"
      },
      "source": [
        "lin"
      ],
      "execution_count": 46,
      "outputs": [
        {
          "output_type": "execute_result",
          "data": {
            "text/plain": [
              "tensor([[-0.1087, -0.1609, -1.5254,  0.2819,  0.6564, -0.4285, -0.0599, -0.4242,\n",
              "          0.0494, -0.0100]], grad_fn=<AddmmBackward>)"
            ]
          },
          "metadata": {},
          "execution_count": 46
        }
      ]
    },
    {
      "cell_type": "code",
      "metadata": {
        "colab": {
          "base_uri": "https://localhost:8080/",
          "height": 252
        },
        "id": "DVb6jOfIs6HT",
        "outputId": "fd54fc8e-434c-4931-fe0d-97c0bf84417e"
      },
      "source": [
        "plt.imshow(lin.detach().numpy(), 'jet')\n",
        "plt.colorbar()\n",
        "plt.show()"
      ],
      "execution_count": 48,
      "outputs": [
        {
          "output_type": "display_data",
          "data": {
            "image/png": "[encoded data removed]",
            "text/plain": [
              "<Figure size 432x288 with 2 Axes>"
            ]
          },
          "metadata": {}
        }
      ]
    },
    {
      "cell_type": "code",
      "metadata": {
        "id": "RzU76MzltHQ_"
      },
      "source": [
        "Softmax"
      ],
      "execution_count": null,
      "outputs": []
    },
    {
      "cell_type": "code",
      "metadata": {
        "id": "a7FdkcostJKX"
      },
      "source": [
        "with torch.no_grad():\n",
        "  flatten = image.view(1, 28*28)\n",
        "  lin = nn.Linear(784, 10)(flatten)\n",
        "  softmax = F.softmax(lin, dim=1)"
      ],
      "execution_count": 49,
      "outputs": []
    },
    {
      "cell_type": "code",
      "metadata": {
        "colab": {
          "base_uri": "https://localhost:8080/"
        },
        "id": "4R_e4gSftWeW",
        "outputId": "8e30fd1b-3195-4ebf-b916-1ebe837b1c78"
      },
      "source": [
        "softmax"
      ],
      "execution_count": 50,
      "outputs": [
        {
          "output_type": "execute_result",
          "data": {
            "text/plain": [
              "tensor([[0.0575, 0.1418, 0.1248, 0.0517, 0.0458, 0.0721, 0.0949, 0.0355, 0.0828,\n",
              "         0.2932]])"
            ]
          },
          "metadata": {},
          "execution_count": 50
        }
      ]
    },
    {
      "cell_type": "code",
      "metadata": {
        "id": "lwhmgunSte4E"
      },
      "source": [
        "import numpy as np"
      ],
      "execution_count": 52,
      "outputs": []
    },
    {
      "cell_type": "code",
      "metadata": {
        "colab": {
          "base_uri": "https://localhost:8080/"
        },
        "id": "5ny9r9e1tYbe",
        "outputId": "8b6e1595-0f4b-4290-c866-a8ff0f6d6d74"
      },
      "source": [
        "np.sum(softmax.numpy())"
      ],
      "execution_count": 53,
      "outputs": [
        {
          "output_type": "execute_result",
          "data": {
            "text/plain": [
              "1.0"
            ]
          },
          "metadata": {},
          "execution_count": 53
        }
      ]
    },
    {
      "cell_type": "markdown",
      "metadata": {
        "id": "wsVEXbYhtjEL"
      },
      "source": [
        "F.relu\n",
        "* ReLU 함수를 적용하는 레이어\n",
        "* nn.ReLU로도 사용 가능"
      ]
    },
    {
      "cell_type": "code",
      "metadata": {
        "colab": {
          "base_uri": "https://localhost:8080/"
        },
        "id": "Gi1K3GMstqjh",
        "outputId": "b079085d-8ad3-4f73-f24a-f60e6997061f"
      },
      "source": [
        "inputs = torch.randn(4, 3, 28, 28).to(device)\n",
        "inputs.shape"
      ],
      "execution_count": 59,
      "outputs": [
        {
          "output_type": "execute_result",
          "data": {
            "text/plain": [
              "torch.Size([4, 3, 28, 28])"
            ]
          },
          "metadata": {},
          "execution_count": 59
        }
      ]
    },
    {
      "cell_type": "code",
      "metadata": {
        "colab": {
          "base_uri": "https://localhost:8080/"
        },
        "id": "22jJeAvouCs4",
        "outputId": "a2de93d2-d8b2-4306-c554-519a8b122ff9"
      },
      "source": [
        "layer = nn.Conv2d(3, 20, 5, 1).to(device)\n",
        "output = F.relu(layer(inputs))\n",
        "output.shape"
      ],
      "execution_count": 60,
      "outputs": [
        {
          "output_type": "execute_result",
          "data": {
            "text/plain": [
              "torch.Size([4, 20, 24, 24])"
            ]
          },
          "metadata": {},
          "execution_count": 60
        }
      ]
    },
    {
      "cell_type": "markdown",
      "metadata": {
        "id": "23LKeggfuQA7"
      },
      "source": [
        "Optimizer\n",
        "* import torch.optim as optim\n",
        "* model의 파라미터를 업데이트\n",
        "* 예시)\n",
        "    * optimizer = torch.optim.Adam(model.parameters(), lr = 1e-4, weight_decay = 1e-5)\n",
        "    * optimizer = optim.SGD(model.parameters(), lr = 0.001)\n",
        "* .zero_gradd()로 초기화\n",
        "* .step()으로 업데이트"
      ]
    }
  ]
}