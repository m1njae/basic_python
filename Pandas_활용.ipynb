{
  "nbformat": 4,
  "nbformat_minor": 0,
  "metadata": {
    "colab": {
      "name": "Pandas_활용",
      "provenance": [],
      "collapsed_sections": [],
      "authorship_tag": "ABX9TyNkoiQsbEygqP/97wt1pDvY",
      "include_colab_link": true
    },
    "kernelspec": {
      "name": "python3",
      "display_name": "Python 3"
    },
    "language_info": {
      "name": "python"
    }
  },
  "cells": [
    {
      "cell_type": "markdown",
      "metadata": {
        "id": "view-in-github",
        "colab_type": "text"
      },
      "source": [
        "<a href=\"https://colab.research.google.com/github/m1njae/basic_python/blob/master/Pandas_%ED%99%9C%EC%9A%A9.ipynb\" target=\"_parent\"><img src=\"https://colab.research.google.com/assets/colab-badge.svg\" alt=\"Open In Colab\"/></a>"
      ]
    },
    {
      "cell_type": "markdown",
      "metadata": {
        "id": "vYedDID-EpPl"
      },
      "source": [
        "데이터 프레임의 마스킹"
      ]
    },
    {
      "cell_type": "code",
      "metadata": {
        "colab": {
          "base_uri": "https://localhost:8080/"
        },
        "id": "nFEnGW65EuCj",
        "outputId": "a48f7a23-c403-49b6-85f7-9cef0f86fe04"
      },
      "source": [
        "import numpy as np\n",
        "import pandas as pd\n",
        "\n",
        "df = pd.DataFrame(np.random.randint(1, 10, (2, 2)), index=[0, 1], columns=[\"A\", \"B\"])\n",
        "# 데이터 프레임 출력하기\n",
        "print(df)\n",
        "# 컬럼 A의 각 원소가 5보다 작거나 같은지 출력\n",
        "print(df[\"A\"] <= 5)\n",
        "# 컬럼 A의 원소가 5보다 작고, 컬럼 B의 원소가 8보다 작은 행 추출\n",
        "print(df.query(\"A <= 5 and B <= 8\"))"
      ],
      "execution_count": null,
      "outputs": [
        {
          "output_type": "stream",
          "name": "stdout",
          "text": [
            "   A  B\n",
            "0  1  3\n",
            "1  1  6\n",
            "0    True\n",
            "1    True\n",
            "Name: A, dtype: bool\n",
            "   A  B\n",
            "0  1  3\n",
            "1  1  6\n"
          ]
        }
      ]
    },
    {
      "cell_type": "markdown",
      "metadata": {
        "id": "uCuUiGYmGDxn"
      },
      "source": [
        "데이터 프레임의 개별 연산"
      ]
    },
    {
      "cell_type": "code",
      "metadata": {
        "colab": {
          "base_uri": "https://localhost:8080/"
        },
        "id": "_jbhfRy0GGuf",
        "outputId": "caac5f5f-aa66-4260-f549-f81b3c14f031"
      },
      "source": [
        "import pandas as pd\n",
        "\n",
        "df = pd.DataFrame([[1, 2, 3, 4],[1, 2, 3, 4]], index=[0,1], columns=[\"A\", \"B\", \"C\", \"D\"])\n",
        "print(df)\n",
        "\n",
        "df = df.apply(lambda x: x + 1)\n",
        "print(df)\n",
        "\n",
        "def addOne(x):\n",
        "  return x + 1\n",
        "\n",
        "df = df.apply(addOne)\n",
        "print(df)"
      ],
      "execution_count": null,
      "outputs": [
        {
          "output_type": "stream",
          "name": "stdout",
          "text": [
            "   A  B  C  D\n",
            "0  1  2  3  4\n",
            "1  1  2  3  4\n",
            "   A  B  C  D\n",
            "0  2  3  4  5\n",
            "1  2  3  4  5\n",
            "   A  B  C  D\n",
            "0  3  4  5  6\n",
            "1  3  4  5  6\n"
          ]
        }
      ]
    },
    {
      "cell_type": "code",
      "metadata": {
        "colab": {
          "base_uri": "https://localhost:8080/"
        },
        "id": "rucBtnf3HF7S",
        "outputId": "97693509-d99f-4063-879d-9cad7d986e2e"
      },
      "source": [
        "import pandas as pd\n",
        "\n",
        "df = pd.DataFrame([\n",
        "                   ['Apple', 'Apple', 'Carrot', 'Banana'],\n",
        "                   ['Durian', 'Banana', 'Apple', 'Carrot']],\n",
        "                  index=[0, 1],\n",
        "                  columns=[\"A\", \"B\", \"C\", \"D\"])\n",
        "print(df)\n",
        "df = df.replace({\"Apple\": \"Airport\"})\n",
        "print(df)"
      ],
      "execution_count": null,
      "outputs": [
        {
          "output_type": "stream",
          "name": "stdout",
          "text": [
            "        A       B       C       D\n",
            "0   Apple   Apple  Carrot  Banana\n",
            "1  Durian  Banana   Apple  Carrot\n",
            "         A        B        C       D\n",
            "0  Airport  Airport   Carrot  Banana\n",
            "1   Durian   Banana  Airport  Carrot\n"
          ]
        }
      ]
    },
    {
      "cell_type": "markdown",
      "metadata": {
        "id": "6ibbnwQHH0D1"
      },
      "source": [
        "데이터 프레임의 그룹화"
      ]
    },
    {
      "cell_type": "code",
      "metadata": {
        "colab": {
          "base_uri": "https://localhost:8080/"
        },
        "id": "465_Ne-9H15q",
        "outputId": "a6837e34-ea04-48ef-d5bc-05d0968bc599"
      },
      "source": [
        "import pandas as pd\n",
        "\n",
        "df = pd.DataFrame([\n",
        "                   ['Apple', 7, 'Fruit'],\n",
        "                   ['Banana', 3, 'Fruit'],\n",
        "                   ['Beef', 5, 'Meal'],\n",
        "                   ['Kimchi', 4, 'Meal']],\n",
        "                  columns=[\"Name\", \"Frequency\", \"Type\"])\n",
        "\n",
        "print(df)\n",
        "print(df.groupby([\"Type\"]).sum())"
      ],
      "execution_count": null,
      "outputs": [
        {
          "output_type": "stream",
          "name": "stdout",
          "text": [
            "     Name  Frequency   Type\n",
            "0   Apple          7  Fruit\n",
            "1  Banana          3  Fruit\n",
            "2    Beef          5   Meal\n",
            "3  Kimchi          4   Meal\n",
            "       Frequency\n",
            "Type            \n",
            "Fruit         10\n",
            "Meal           9\n"
          ]
        }
      ]
    },
    {
      "cell_type": "code",
      "metadata": {
        "colab": {
          "base_uri": "https://localhost:8080/"
        },
        "id": "oVBmHkmsI2bX",
        "outputId": "b2e5c2bc-975e-4dfc-dfbc-82bf586d869c"
      },
      "source": [
        "import pandas as pd\n",
        "\n",
        "df = pd.DataFrame([\n",
        "                   ['Apple', 7, 5, 'Fruit'],\n",
        "                   ['Banana', 3, 6, 'Fruit'],\n",
        "                   ['Beef', 5, 2, 'Meal'],\n",
        "                   ['Kimchi', 4, 8,'Meal']],\n",
        "                  columns=[\"Name\", \"Frequency\", \"Importance\", \"Type\"])\n",
        "\n",
        "print(df)\n",
        "print(df.groupby([\"Type\"]).aggregate([min, max, np.average]))"
      ],
      "execution_count": null,
      "outputs": [
        {
          "output_type": "stream",
          "name": "stdout",
          "text": [
            "     Name  Frequency  Importance   Type\n",
            "0   Apple          7           5  Fruit\n",
            "1  Banana          3           6  Fruit\n",
            "2    Beef          5           2   Meal\n",
            "3  Kimchi          4           8   Meal\n",
            "      Frequency             Importance            \n",
            "            min max average        min max average\n",
            "Type                                              \n",
            "Fruit         3   7     5.0          5   6     5.5\n",
            "Meal          4   5     4.5          2   8     5.0\n"
          ]
        }
      ]
    },
    {
      "cell_type": "code",
      "metadata": {
        "colab": {
          "base_uri": "https://localhost:8080/"
        },
        "id": "PRcWjiz5Je65",
        "outputId": "aa110908-8cc5-4476-a1aa-eff8984003c9"
      },
      "source": [
        "import pandas as pd\n",
        "\n",
        "df = pd.DataFrame([\n",
        "                   ['Apple', 7, 5, 'Fruit'],\n",
        "                   ['Banana', 3, 6, 'Fruit'],\n",
        "                   ['Beef', 5, 2, 'Meal'],\n",
        "                   ['Kimchi', 4, 8,'Meal']],\n",
        "                  columns=[\"Name\", \"Frequency\", \"Importance\", \"Type\"])\n",
        "\n",
        "def my_filter(data):\n",
        "  return data[\"Frequency\"].mean() >= 5\n",
        "\n",
        "print(df)\n",
        "df = df.groupby(\"Type\").filter(my_filter)\n",
        "print(df)"
      ],
      "execution_count": null,
      "outputs": [
        {
          "output_type": "stream",
          "name": "stdout",
          "text": [
            "     Name  Frequency  Importance   Type\n",
            "0   Apple          7           5  Fruit\n",
            "1  Banana          3           6  Fruit\n",
            "2    Beef          5           2   Meal\n",
            "3  Kimchi          4           8   Meal\n",
            "     Name  Frequency  Importance   Type\n",
            "0   Apple          7           5  Fruit\n",
            "1  Banana          3           6  Fruit\n"
          ]
        }
      ]
    },
    {
      "cell_type": "code",
      "metadata": {
        "colab": {
          "base_uri": "https://localhost:8080/"
        },
        "id": "4AGDRgUlJ7Ff",
        "outputId": "afcb6a3c-153c-4112-c10b-649e4258b269"
      },
      "source": [
        "import pandas as pd\n",
        "\n",
        "df = pd.DataFrame([\n",
        "                   ['Apple', 7, 5, 'Fruit'],\n",
        "                   ['Banana', 3, 6, 'Fruit'],\n",
        "                   ['Beef', 5, 2, 'Meal'],\n",
        "                   ['Kimchi', 4, 8,'Meal']],\n",
        "                  columns=[\"Name\", \"Frequency\", \"Importance\", \"Type\"])\n",
        "\n",
        "df = df.groupby(\"Type\").get_group(\"Fruit\")\n",
        "print(df)"
      ],
      "execution_count": null,
      "outputs": [
        {
          "output_type": "stream",
          "name": "stdout",
          "text": [
            "     Name  Frequency  Importance   Type\n",
            "0   Apple          7           5  Fruit\n",
            "1  Banana          3           6  Fruit\n"
          ]
        }
      ]
    },
    {
      "cell_type": "code",
      "metadata": {
        "colab": {
          "base_uri": "https://localhost:8080/"
        },
        "id": "vuwD6czYKPCm",
        "outputId": "738ed651-64a0-4a2d-dbdb-2657a709aa28"
      },
      "source": [
        "import pandas as pd\n",
        "\n",
        "df = pd.DataFrame([\n",
        "                   ['Apple', 7, 5, 'Fruit'],\n",
        "                   ['Banana', 3, 6, 'Fruit'],\n",
        "                   ['Beef', 5, 2, 'Meal'],\n",
        "                   ['Kimchi', 4, 8,'Meal']],\n",
        "                  columns=[\"Name\", \"Frequency\", \"Importance\", \"Type\"])\n",
        "\n",
        "df[\"Gap\"] = df.groupby(\"Type\")[\"Frequency\"].apply(lambda x: x - x.mean())\n",
        "print(df)"
      ],
      "execution_count": null,
      "outputs": [
        {
          "output_type": "stream",
          "name": "stdout",
          "text": [
            "     Name  Frequency  Importance   Type  Gap\n",
            "0   Apple          7           5  Fruit  2.0\n",
            "1  Banana          3           6  Fruit -2.0\n",
            "2    Beef          5           2   Meal  0.5\n",
            "3  Kimchi          4           8   Meal -0.5\n"
          ]
        }
      ]
    },
    {
      "cell_type": "markdown",
      "metadata": {
        "id": "ow1E9RA1K8AI"
      },
      "source": [
        "데이터 프레임의 다중화"
      ]
    },
    {
      "cell_type": "code",
      "metadata": {
        "colab": {
          "base_uri": "https://localhost:8080/"
        },
        "id": "eGwmu1FEK_My",
        "outputId": "0ada5fe0-6c17-4483-e26b-bd7a5df4859a"
      },
      "source": [
        "import numpy as np\n",
        "import pandas as pd\n",
        "\n",
        "df = pd.DataFrame(\n",
        "    np.random.randint(1, 10, (4, 4)),\n",
        "    index=[['1차', '1차', '2차', '2차'], ['공격', '수비', '공격', '수비']],\n",
        "    columns =['1회', '2회', '3회', '4회']\n",
        ")\n",
        "\n",
        "print(df)\n",
        "print(df[[\"1회\", \"2회\"]].loc[\"2차\"])"
      ],
      "execution_count": null,
      "outputs": [
        {
          "output_type": "stream",
          "name": "stdout",
          "text": [
            "       1회  2회  3회  4회\n",
            "1차 공격   4   1   5   5\n",
            "   수비   5   2   3   7\n",
            "2차 공격   2   6   8   7\n",
            "   수비   8   5   1   5\n",
            "    1회  2회\n",
            "공격   2   6\n",
            "수비   8   5\n"
          ]
        }
      ]
    },
    {
      "cell_type": "markdown",
      "metadata": {
        "id": "2mFjTAHMMJQw"
      },
      "source": [
        "피벗 테이블의 기초"
      ]
    },
    {
      "cell_type": "code",
      "metadata": {
        "colab": {
          "base_uri": "https://localhost:8080/"
        },
        "id": "8QIlBljjMMn9",
        "outputId": "8f8e2591-2a0d-486a-d2af-fcd00cb90e8a"
      },
      "source": [
        "import numpy as np\n",
        "import pandas as pd\n",
        "\n",
        "df = pd.DataFrame([\n",
        "                   ['Apple', 7, 5, 'Fruit'],\n",
        "                   ['Banana', 3, 6, 'Fruit'],\n",
        "                   ['Coconut', 2, 6, 'Fruit'],\n",
        "                   ['Rice', 8, 2, 'Meal'],\n",
        "                   ['Beef', 5, 2, 'Meal'],\n",
        "                   ['Kimchi', 4, 8,'Meal']],\n",
        "                  columns=[\"Name\", \"Frequency\", \"Importance\", \"Type\"])\n",
        "print(df)\n",
        "df = df.pivot_table(\n",
        "    index=\"Importance\", columns=\"Type\", values=\"Frequency\",\n",
        "    aggfunc= np.max\n",
        ")\n",
        "print(df)"
      ],
      "execution_count": null,
      "outputs": [
        {
          "output_type": "stream",
          "name": "stdout",
          "text": [
            "      Name  Frequency  Importance   Type\n",
            "0    Apple          7           5  Fruit\n",
            "1   Banana          3           6  Fruit\n",
            "2  Coconut          2           6  Fruit\n",
            "3     Rice          8           2   Meal\n",
            "4     Beef          5           2   Meal\n",
            "5   Kimchi          4           8   Meal\n",
            "Type        Fruit  Meal\n",
            "Importance             \n",
            "2             NaN   8.0\n",
            "5             7.0   NaN\n",
            "6             3.0   NaN\n",
            "8             NaN   4.0\n"
          ]
        }
      ]
    }
  ]
}